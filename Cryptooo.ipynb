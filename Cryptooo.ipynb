{
  "nbformat": 4,
  "nbformat_minor": 0,
  "metadata": {
    "colab": {
      "name": "Cryptooo",
      "provenance": [],
      "collapsed_sections": [],
      "authorship_tag": "ABX9TyPfT1dmXCa8q3Qbm3dqUxmo",
      "include_colab_link": true
    },
    "kernelspec": {
      "name": "python3",
      "display_name": "Python 3"
    },
    "language_info": {
      "name": "python"
    }
  },
  "cells": [
    {
      "cell_type": "markdown",
      "metadata": {
        "id": "view-in-github",
        "colab_type": "text"
      },
      "source": [
        "<a href=\"https://colab.research.google.com/github/karipuf/crypto/blob/master/Cryptooo.ipynb\" target=\"_parent\"><img src=\"https://colab.research.google.com/assets/colab-badge.svg\" alt=\"Open In Colab\"/></a>"
      ]
    },
    {
      "cell_type": "markdown",
      "metadata": {
        "id": "3Yl6cA_h8MkD"
      },
      "source": [
        "### Setting stuff up"
      ]
    },
    {
      "cell_type": "code",
      "metadata": {
        "id": "46KpxUYaw0HA"
      },
      "source": [
        "!pip install Historic-Crypto\n",
        "!pip install pyspark\n"
      ],
      "execution_count": null,
      "outputs": []
    },
    {
      "cell_type": "code",
      "metadata": {
        "id": "RPddZqFu-Ujk"
      },
      "source": [
        "from Historic_Crypto import HistoricalData,Cryptocurrencies,LiveCryptoData\n",
        "import pylab as pl\n",
        "import pyspark,lightgbm,sklearn,pandas as pd,pyspark.sql.functions as F\n",
        "from pyspark.sql.window import Window\n",
        "\n",
        "spark=pyspark.sql.SparkSession.builder.getOrCreate()"
      ],
      "execution_count": 61,
      "outputs": []
    },
    {
      "cell_type": "code",
      "metadata": {
        "id": "ndgA2Nfb_X6L"
      },
      "source": [
        "# Local definitions\n"
      ],
      "execution_count": null,
      "outputs": []
    },
    {
      "cell_type": "code",
      "metadata": {
        "colab": {
          "base_uri": "https://localhost:8080/",
          "height": 219
        },
        "id": "YQRNbK3A_BDp",
        "outputId": "ca1d1cd0-0181-440f-e173-fc4432e10dbc"
      },
      "source": [
        ""
      ],
      "execution_count": 58,
      "outputs": [
        {
          "output_type": "execute_result",
          "data": {
            "text/html": [
              "\n",
              "            <div>\n",
              "                <p><b>SparkSession - in-memory</b></p>\n",
              "                \n",
              "        <div>\n",
              "            <p><b>SparkContext</b></p>\n",
              "\n",
              "            <p><a href=\"http://f199de32c95c:4040\">Spark UI</a></p>\n",
              "\n",
              "            <dl>\n",
              "              <dt>Version</dt>\n",
              "                <dd><code>v3.1.2</code></dd>\n",
              "              <dt>Master</dt>\n",
              "                <dd><code>local[*]</code></dd>\n",
              "              <dt>AppName</dt>\n",
              "                <dd><code>pyspark-shell</code></dd>\n",
              "            </dl>\n",
              "        </div>\n",
              "        \n",
              "            </div>\n",
              "        "
            ],
            "text/plain": [
              "<pyspark.sql.session.SparkSession at 0x7f977b43be50>"
            ]
          },
          "metadata": {},
          "execution_count": 58
        }
      ]
    },
    {
      "cell_type": "markdown",
      "metadata": {
        "id": "uEA4-1B88kzj"
      },
      "source": [
        "### Get some data to play about with"
      ]
    },
    {
      "cell_type": "code",
      "metadata": {
        "colab": {
          "base_uri": "https://localhost:8080/"
        },
        "id": "6UNcmSOIw7h2",
        "outputId": "64f60191-7d35-4a24-d313-e1bde69cea7c"
      },
      "source": [
        "# Something weird\n",
        "pf=Cryptocurrencies().find_crypto_pairs()"
      ],
      "execution_count": null,
      "outputs": [
        {
          "output_type": "stream",
          "name": "stdout",
          "text": [
            "Connected to the CoinBase Pro API.\n"
          ]
        }
      ]
    },
    {
      "cell_type": "code",
      "metadata": {
        "id": "A8SF9dSG2f5A"
      },
      "source": [
        "btc = HistoricalData('BTC-USD',300,'2020-06-01-00-00').retrieve_data()\n",
        "btc.to_csv(\"btc.csv\")"
      ],
      "execution_count": null,
      "outputs": []
    },
    {
      "cell_type": "code",
      "metadata": {
        "id": "vL_E8D4cxFqW"
      },
      "source": [
        "eth = HistoricalData('ETH-USD',300,'2020-06-01-00-00').retrieve_data()\n",
        "eth.to_csv(\"eth.csv\")"
      ],
      "execution_count": null,
      "outputs": []
    },
    {
      "cell_type": "code",
      "metadata": {
        "colab": {
          "base_uri": "https://localhost:8080/",
          "height": 236
        },
        "id": "sz2WSZRcxVIb",
        "outputId": "6b76a187-de3e-41c6-8c8f-1a28e93e611e"
      },
      "source": [
        "eth.head(5)"
      ],
      "execution_count": null,
      "outputs": [
        {
          "output_type": "execute_result",
          "data": {
            "text/html": [
              "<div>\n",
              "<style scoped>\n",
              "    .dataframe tbody tr th:only-of-type {\n",
              "        vertical-align: middle;\n",
              "    }\n",
              "\n",
              "    .dataframe tbody tr th {\n",
              "        vertical-align: top;\n",
              "    }\n",
              "\n",
              "    .dataframe thead th {\n",
              "        text-align: right;\n",
              "    }\n",
              "</style>\n",
              "<table border=\"1\" class=\"dataframe\">\n",
              "  <thead>\n",
              "    <tr style=\"text-align: right;\">\n",
              "      <th></th>\n",
              "      <th>low</th>\n",
              "      <th>high</th>\n",
              "      <th>open</th>\n",
              "      <th>close</th>\n",
              "      <th>volume</th>\n",
              "    </tr>\n",
              "    <tr>\n",
              "      <th>time</th>\n",
              "      <th></th>\n",
              "      <th></th>\n",
              "      <th></th>\n",
              "      <th></th>\n",
              "      <th></th>\n",
              "    </tr>\n",
              "  </thead>\n",
              "  <tbody>\n",
              "    <tr>\n",
              "      <th>2020-06-01 00:05:00</th>\n",
              "      <td>230.91</td>\n",
              "      <td>232.51</td>\n",
              "      <td>231.09</td>\n",
              "      <td>232.30</td>\n",
              "      <td>1046.811509</td>\n",
              "    </tr>\n",
              "    <tr>\n",
              "      <th>2020-06-01 00:10:00</th>\n",
              "      <td>232.31</td>\n",
              "      <td>233.21</td>\n",
              "      <td>232.34</td>\n",
              "      <td>232.92</td>\n",
              "      <td>598.474297</td>\n",
              "    </tr>\n",
              "    <tr>\n",
              "      <th>2020-06-01 00:15:00</th>\n",
              "      <td>232.81</td>\n",
              "      <td>233.68</td>\n",
              "      <td>232.87</td>\n",
              "      <td>233.07</td>\n",
              "      <td>599.021589</td>\n",
              "    </tr>\n",
              "    <tr>\n",
              "      <th>2020-06-01 00:20:00</th>\n",
              "      <td>232.81</td>\n",
              "      <td>233.28</td>\n",
              "      <td>233.07</td>\n",
              "      <td>233.04</td>\n",
              "      <td>587.719808</td>\n",
              "    </tr>\n",
              "    <tr>\n",
              "      <th>2020-06-01 00:25:00</th>\n",
              "      <td>232.91</td>\n",
              "      <td>233.30</td>\n",
              "      <td>233.04</td>\n",
              "      <td>233.25</td>\n",
              "      <td>345.725075</td>\n",
              "    </tr>\n",
              "  </tbody>\n",
              "</table>\n",
              "</div>"
            ],
            "text/plain": [
              "                        low    high    open   close       volume\n",
              "time                                                            \n",
              "2020-06-01 00:05:00  230.91  232.51  231.09  232.30  1046.811509\n",
              "2020-06-01 00:10:00  232.31  233.21  232.34  232.92   598.474297\n",
              "2020-06-01 00:15:00  232.81  233.68  232.87  233.07   599.021589\n",
              "2020-06-01 00:20:00  232.81  233.28  233.07  233.04   587.719808\n",
              "2020-06-01 00:25:00  232.91  233.30  233.04  233.25   345.725075"
            ]
          },
          "metadata": {},
          "execution_count": 18
        }
      ]
    },
    {
      "cell_type": "code",
      "metadata": {
        "colab": {
          "base_uri": "https://localhost:8080/",
          "height": 375
        },
        "id": "E--SkkMX07if",
        "outputId": "0047e739-96a4-47fc-b054-ee1e42092367"
      },
      "source": [
        "pl.figure(figsize=(15,6))\n",
        "eth.plot(y='close',ax=pl.gca())\n",
        "pl.gca().grid(True)"
      ],
      "execution_count": null,
      "outputs": [
        {
          "output_type": "display_data",
          "data": {
            "image/png": "[encoded data removed]",
            "text/plain": [
              "<Figure size 1080x432 with 1 Axes>"
            ]
          },
          "metadata": {
            "needs_background": "light"
          }
        }
      ]
    },
    {
      "cell_type": "code",
      "metadata": {
        "id": "0ZtgLwGD1Zrg"
      },
      "source": [
        "eth.to_csv(\"eth.csv\")"
      ],
      "execution_count": null,
      "outputs": []
    },
    {
      "cell_type": "code",
      "metadata": {
        "colab": {
          "base_uri": "https://localhost:8080/"
        },
        "id": "6dsghV6i2uDd",
        "outputId": "15a6eecb-035d-497e-ca56-81f9b43b6ec6"
      },
      "source": [
        "pl.figure(figsize=(15,6))\n",
        "btc.plot(y='close',ax=pl.gca())\n",
        "pl.gca().grid(True)"
      ],
      "execution_count": null,
      "outputs": [
        {
          "output_type": "display_data",
          "data": {
            "image/png": "[encoded data removed]",
            "text/plain": [
              "<Figure size 1080x432 with 1 Axes>"
            ]
          },
          "metadata": {
            "needs_background": "light"
          }
        }
      ]
    },
    {
      "cell_type": "code",
      "metadata": {
        "id": "v5b7d_tE83MD"
      },
      "source": [
        "deth=spark.createDataFrame(eth.reset_index())\n",
        "dbtc=spark.createDataFrame(btc.reset_index())\n",
        "\n",
        "combined=(deth.alias(\"deth\")\n",
        ".join(dbtc.alias(\"dbtc\"),\"time\")\n",
        ".select(\n",
        "    deth.time,\n",
        "    *[F.expr(f\"deth.{tmp}\").alias(f\"eth_{tmp}\") for tmp in ('close','volume','low','high')],\n",
        "    *[F.expr(f\"dbtc.{tmp}\").alias(f\"btc_{tmp}\") for tmp in ('close','volume','low','high')])\n",
        ".orderBy(\"time\"))"
      ],
      "execution_count": 97,
      "outputs": []
    },
    {
      "cell_type": "code",
      "metadata": {
        "colab": {
          "base_uri": "https://localhost:8080/",
          "height": 206
        },
        "id": "chK1p2lC9Cfj",
        "outputId": "07311bf2-cf28-4d84-f639-7cb7babefa09"
      },
      "source": [
        "display(combined.limit(5).toPandas())"
      ],
      "execution_count": 98,
      "outputs": [
        {
          "output_type": "display_data",
          "data": {
            "text/html": [
              "<div>\n",
              "<style scoped>\n",
              "    .dataframe tbody tr th:only-of-type {\n",
              "        vertical-align: middle;\n",
              "    }\n",
              "\n",
              "    .dataframe tbody tr th {\n",
              "        vertical-align: top;\n",
              "    }\n",
              "\n",
              "    .dataframe thead th {\n",
              "        text-align: right;\n",
              "    }\n",
              "</style>\n",
              "<table border=\"1\" class=\"dataframe\">\n",
              "  <thead>\n",
              "    <tr style=\"text-align: right;\">\n",
              "      <th></th>\n",
              "      <th>time</th>\n",
              "      <th>eth_close</th>\n",
              "      <th>eth_volume</th>\n",
              "      <th>eth_low</th>\n",
              "      <th>eth_high</th>\n",
              "      <th>btc_close</th>\n",
              "      <th>btc_volume</th>\n",
              "      <th>btc_low</th>\n",
              "      <th>btc_high</th>\n",
              "    </tr>\n",
              "  </thead>\n",
              "  <tbody>\n",
              "    <tr>\n",
              "      <th>0</th>\n",
              "      <td>2020-06-01 00:05:00</td>\n",
              "      <td>232.30</td>\n",
              "      <td>1046.811509</td>\n",
              "      <td>230.91</td>\n",
              "      <td>232.51</td>\n",
              "      <td>9469.01</td>\n",
              "      <td>40.716165</td>\n",
              "      <td>9426.26</td>\n",
              "      <td>9470.99</td>\n",
              "    </tr>\n",
              "    <tr>\n",
              "      <th>1</th>\n",
              "      <td>2020-06-01 00:10:00</td>\n",
              "      <td>232.92</td>\n",
              "      <td>598.474297</td>\n",
              "      <td>232.31</td>\n",
              "      <td>233.21</td>\n",
              "      <td>9476.77</td>\n",
              "      <td>44.604356</td>\n",
              "      <td>9468.07</td>\n",
              "      <td>9488.16</td>\n",
              "    </tr>\n",
              "    <tr>\n",
              "      <th>2</th>\n",
              "      <td>2020-06-01 00:15:00</td>\n",
              "      <td>233.07</td>\n",
              "      <td>599.021589</td>\n",
              "      <td>232.81</td>\n",
              "      <td>233.68</td>\n",
              "      <td>9476.85</td>\n",
              "      <td>38.898090</td>\n",
              "      <td>9475.30</td>\n",
              "      <td>9492.77</td>\n",
              "    </tr>\n",
              "    <tr>\n",
              "      <th>3</th>\n",
              "      <td>2020-06-01 00:20:00</td>\n",
              "      <td>233.04</td>\n",
              "      <td>587.719808</td>\n",
              "      <td>232.81</td>\n",
              "      <td>233.28</td>\n",
              "      <td>9479.78</td>\n",
              "      <td>28.145373</td>\n",
              "      <td>9469.25</td>\n",
              "      <td>9481.98</td>\n",
              "    </tr>\n",
              "    <tr>\n",
              "      <th>4</th>\n",
              "      <td>2020-06-01 00:25:00</td>\n",
              "      <td>233.25</td>\n",
              "      <td>345.725075</td>\n",
              "      <td>232.91</td>\n",
              "      <td>233.30</td>\n",
              "      <td>9483.69</td>\n",
              "      <td>23.093949</td>\n",
              "      <td>9471.12</td>\n",
              "      <td>9483.72</td>\n",
              "    </tr>\n",
              "  </tbody>\n",
              "</table>\n",
              "</div>"
            ],
            "text/plain": [
              "                 time  eth_close   eth_volume  ...  btc_volume  btc_low  btc_high\n",
              "0 2020-06-01 00:05:00     232.30  1046.811509  ...   40.716165  9426.26   9470.99\n",
              "1 2020-06-01 00:10:00     232.92   598.474297  ...   44.604356  9468.07   9488.16\n",
              "2 2020-06-01 00:15:00     233.07   599.021589  ...   38.898090  9475.30   9492.77\n",
              "3 2020-06-01 00:20:00     233.04   587.719808  ...   28.145373  9469.25   9481.98\n",
              "4 2020-06-01 00:25:00     233.25   345.725075  ...   23.093949  9471.12   9483.72\n",
              "\n",
              "[5 rows x 9 columns]"
            ]
          },
          "metadata": {}
        }
      ]
    },
    {
      "cell_type": "code",
      "metadata": {
        "id": "KnAOIQnM-88m"
      },
      "source": [
        "rollback=lambda l,n:Window.orderBy(\"time\").rowsBetween(-(l+n),Window.currentRow-n)\n",
        "\n",
        "rows=([F.avg(tmp).over(rollback(3,3)).alias(f\"{tmp}_rolling3\")\n",
        "for tmp in (\"eth_close\",\"eth_volume\",\"btc_close\",\"btc_volume\")]\n",
        "+[F.avg(tmp).over(rollback(7,3)).alias(f\"{tmp}_rolling7\")\n",
        "for tmp in (\"eth_close\",\"eth_volume\",\"btc_close\",\"btc_volume\")]\n",
        ")\n",
        "\n",
        "x=combined.alias(\"combined\").select(\"combined.*\",*rows).orderBy(\"time\")"
      ],
      "execution_count": 99,
      "outputs": []
    },
    {
      "cell_type": "code",
      "metadata": {
        "colab": {
          "base_uri": "https://localhost:8080/"
        },
        "id": "nibxoCgyGiNZ",
        "outputId": "320aefa3-a722-447b-f689-eed1acfa1815"
      },
      "source": [
        "df.columns"
      ],
      "execution_count": 88,
      "outputs": [
        {
          "output_type": "execute_result",
          "data": {
            "text/plain": [
              "['time',\n",
              " 'eth_close',\n",
              " 'eth_volume',\n",
              " 'btc_close',\n",
              " 'btc_volume',\n",
              " 'eth_close_rolling3',\n",
              " 'eth_volume_rolling3',\n",
              " 'btc_close_rolling3',\n",
              " 'btc_volume_rolling3',\n",
              " 'eth_close_rolling7',\n",
              " 'eth_volume_rolling7',\n",
              " 'btc_close_rolling7',\n",
              " 'btc_volume_rolling7']"
            ]
          },
          "metadata": {},
          "execution_count": 88
        }
      ]
    },
    {
      "cell_type": "markdown",
      "metadata": {
        "id": "4Q68bnjx0lY-"
      },
      "source": [
        "### Scratch"
      ]
    },
    {
      "cell_type": "code",
      "metadata": {
        "colab": {
          "base_uri": "https://localhost:8080/"
        },
        "id": "1W0JrgRkwJi7",
        "outputId": "a1cfc417-f1e5-444f-cbef-9f5d2a1ca0e8"
      },
      "source": [
        "import requests\n",
        "response = requests.get('https://api.coindesk.com/v1/bpi/currentprice.json')\n",
        "data = response.json()\n",
        "print(data)"
      ],
      "execution_count": null,
      "outputs": [
        {
          "output_type": "stream",
          "name": "stdout",
          "text": [
            "{'time': {'updated': 'Aug 31, 2021 05:49:00 UTC', 'updatedISO': '2021-08-31T05:49:00+00:00', 'updateduk': 'Aug 31, 2021 at 06:49 BST'}, 'disclaimer': 'This data was produced from the CoinDesk Bitcoin Price Index (USD). Non-USD currency data converted using hourly conversion rate from openexchangerates.org', 'chartName': 'Bitcoin', 'bpi': {'USD': {'code': 'USD', 'symbol': '&#36;', 'rate': '47,195.4600', 'description': 'United States Dollar', 'rate_float': 47195.46}, 'GBP': {'code': 'GBP', 'symbol': '&pound;', 'rate': '34,250.5476', 'description': 'British Pound Sterling', 'rate_float': 34250.5476}, 'EUR': {'code': 'EUR', 'symbol': '&euro;', 'rate': '39,935.0992', 'description': 'Euro', 'rate_float': 39935.0992}}}\n"
          ]
        }
      ]
    }
  ]
}