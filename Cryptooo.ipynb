{
  "nbformat": 4,
  "nbformat_minor": 0,
  "metadata": {
    "colab": {
      "name": "Cryptooo",
      "provenance": [],
      "collapsed_sections": [],
      "mount_file_id": "1kje3hC7tomjJVubRM1sFdJsrHrH8bDyV",
      "authorship_tag": "ABX9TyMfKayzMw5X4i2avGqrmwRK",
      "include_colab_link": true
    },
    "kernelspec": {
      "name": "python3",
      "display_name": "Python 3"
    },
    "language_info": {
      "name": "python"
    }
  },
  "cells": [
    {
      "cell_type": "markdown",
      "metadata": {
        "id": "view-in-github",
        "colab_type": "text"
      },
      "source": [
        "<a href=\"https://colab.research.google.com/github/karipuf/crypto/blob/master/Cryptooo.ipynb\" target=\"_parent\"><img src=\"https://colab.research.google.com/assets/colab-badge.svg\" alt=\"Open In Colab\"/></a>"
      ]
    },
    {
      "cell_type": "markdown",
      "metadata": {
        "id": "3Yl6cA_h8MkD"
      },
      "source": [
        "### Setting stuff up"
      ]
    },
    {
      "cell_type": "code",
      "metadata": {
        "id": "46KpxUYaw0HA"
      },
      "source": [
        "!pip install Historic-Crypto\n",
        "!pip install pyspark"
      ],
      "execution_count": null,
      "outputs": []
    },
    {
      "cell_type": "code",
      "metadata": {
        "id": "RPddZqFu-Ujk"
      },
      "source": [
        "from Historic_Crypto import HistoricalData,Cryptocurrencies,LiveCryptoData\n",
        "import pylab as pl\n",
        "import pyspark,lightgbm,sklearn,pandas as pd,pyspark.sql.functions as F\n",
        "from pyspark.sql.window import Window\n",
        "from itertools import count\n",
        "from functools import reduce\n",
        "\n",
        "spark=pyspark.sql.SparkSession.builder.getOrCreate()"
      ],
      "execution_count": 75,
      "outputs": []
    },
    {
      "cell_type": "code",
      "metadata": {
        "id": "ndgA2Nfb_X6L"
      },
      "source": [
        "# Local definitions\n",
        "\n",
        "rollback=lambda l,n:Window.orderBy(\"time\").rowsBetween(-(l+n),Window.currentRow-n)\n",
        "def rollingRows(coins=['btc','eth','ltc'],winlens=[3,7],\n",
        "                avg_kpis=[\"open\",\"close\",\"volume\"],\n",
        "                min_kpis=['low'],max_kpis=['high'],lag=3):\n",
        "  \n",
        "  rows=[]\n",
        "  for l in winlens:\n",
        "    rows.append([F.avg(tmp).over(rollback(l,lag)).alias(f\"{tmp}_rolling{l}\") for tmp in \n",
        "    (f\"{coin}_{kpi}\" for coin in coins for kpi in avg_kpis)])\n",
        "    rows.append([F.min(tmp).over(rollback(l,lag)).alias(f\"{tmp}_rolling{l}\") for tmp in \n",
        "    (f\"{coin}_{kpi}\" for coin in coins for kpi in min_kpis)])\n",
        "    rows.append([F.max(tmp).over(rollback(l,lag)).alias(f\"{tmp}_rolling{l}\") for tmp in \n",
        "    (f\"{coin}_{kpi}\" for coin in coins for kpi in max_kpis)])\n",
        "\n",
        "  return reduce(lambda x,y:x+y,rows)"
      ],
      "execution_count": 71,
      "outputs": []
    },
    {
      "cell_type": "markdown",
      "metadata": {
        "id": "uEA4-1B88kzj"
      },
      "source": [
        "### Get some data to play about with"
      ]
    },
    {
      "cell_type": "code",
      "metadata": {
        "id": "A8SF9dSG2f5A"
      },
      "source": [
        "# Generate list of currencies\n",
        "pf=Cryptocurrencies(coin_search=\"USD\").find_crypto_pairs()\n",
        "\n",
        "# Loading in data\n",
        "if False: # To exclude those that are already done\n",
        "\n",
        "  # Loading\n",
        "  btc = HistoricalData('BTC-USD',300,'2020-06-01-00-00').retrieve_data()\n",
        "  eth = HistoricalData('ETH-USD',300,'2020-06-01-00-00').retrieve_data()\n",
        "  ltc = HistoricalData('LTC-USD',300,'2020-06-01-00-00').retrieve_data()\n",
        "\n",
        "  # Writing.\n",
        "  btc.to_csv(\"/content/drive/MyDrive/colab_files/data/btc.csv\")\n",
        "  eth.to_csv(\"/content/drive/MyDrive/colab_files/data/eth.csv\")\n",
        "  ltc.to_csv(\"/content/drive/MyDrive/colab_files/data/ltc.csv\")\n",
        "\n",
        "else:\n",
        "\n",
        "  pbtc=pd.read_csv(\"/content/drive/MyDrive/colab_files/data/btc.csv\")\n",
        "  peth=pd.read_csv(\"/content/drive/MyDrive/colab_files/data/eth.csv\")\n",
        "  pltc=pd.read_csv(\"/content/drive/MyDrive/colab_files/data/ltc.csv\")\n",
        "\n",
        "  deth=spark.createDataFrame(peth.reset_index())\n",
        "  dbtc=spark.createDataFrame(pbtc.reset_index())\n",
        "  dltc=spark.createDataFrame(pltc.reset_index())"
      ],
      "execution_count": 45,
      "outputs": []
    },
    {
      "cell_type": "code",
      "metadata": {
        "colab": {
          "base_uri": "https://localhost:8080/",
          "height": 211
        },
        "id": "6dsghV6i2uDd",
        "outputId": "30cf4386-9dcb-45f1-e4b5-52e955f60dc1"
      },
      "source": [
        "pl.figure(figsize=(16,3))\n",
        "pbtc.plot(y='close',ax=pl.gca())\n",
        "pl.gca().grid(True)"
      ],
      "execution_count": 47,
      "outputs": [
        {
          "output_type": "display_data",
          "data": {
            "image/png": "[encoded data removed]",
            "text/plain": [
              "<Figure size 1152x216 with 1 Axes>"
            ]
          },
          "metadata": {
            "needs_background": "light"
          }
        }
      ]
    },
    {
      "cell_type": "code",
      "metadata": {
        "id": "v5b7d_tE83MD",
        "colab": {
          "base_uri": "https://localhost:8080/",
          "height": 267
        },
        "outputId": "eeedb365-0be5-402d-d21d-99da06446d6d"
      },
      "source": [
        "combined=(reduce(lambda x,y:x.join(y,\"time\"),\n",
        "          [dbtc.alias(\"dbtc\"),deth.alias(\"deth\"),dltc.alias(\"dltc\")])\n",
        ".select(\"time\",*[F.expr(f\"d{coin}.{kpi}\").alias(f\"{coin}_{kpi}\")\n",
        "    for kpi in ('open','close','low','high','volume')\n",
        "    for coin in ('btc','eth','ltc')]).orderBy(\"time\"))\n",
        "\n",
        "df=(combined.alias(\"combined\").select(\"combined.*\",*rollingRows())\\\n",
        ".withColumn(\"row\",F.rank().over(Window.orderBy(\"time\"))).where(\"row>10\") # Removing first n rows to allow for rolling windows\n",
        ".orderBy(\"time\"))\n",
        "\n",
        "display(df.limit(3).toPandas())"
      ],
      "execution_count": 72,
      "outputs": [
        {
          "output_type": "display_data",
          "data": {
            "text/html": [
              "<div>\n",
              "<style scoped>\n",
              "    .dataframe tbody tr th:only-of-type {\n",
              "        vertical-align: middle;\n",
              "    }\n",
              "\n",
              "    .dataframe tbody tr th {\n",
              "        vertical-align: top;\n",
              "    }\n",
              "\n",
              "    .dataframe thead th {\n",
              "        text-align: right;\n",
              "    }\n",
              "</style>\n",
              "<table border=\"1\" class=\"dataframe\">\n",
              "  <thead>\n",
              "    <tr style=\"text-align: right;\">\n",
              "      <th></th>\n",
              "      <th>time</th>\n",
              "      <th>btc_open</th>\n",
              "      <th>eth_open</th>\n",
              "      <th>ltc_open</th>\n",
              "      <th>btc_close</th>\n",
              "      <th>eth_close</th>\n",
              "      <th>ltc_close</th>\n",
              "      <th>btc_low</th>\n",
              "      <th>eth_low</th>\n",
              "      <th>ltc_low</th>\n",
              "      <th>btc_high</th>\n",
              "      <th>eth_high</th>\n",
              "      <th>ltc_high</th>\n",
              "      <th>btc_volume</th>\n",
              "      <th>eth_volume</th>\n",
              "      <th>ltc_volume</th>\n",
              "      <th>btc_open_rolling3</th>\n",
              "      <th>btc_close_rolling3</th>\n",
              "      <th>btc_volume_rolling3</th>\n",
              "      <th>eth_open_rolling3</th>\n",
              "      <th>eth_close_rolling3</th>\n",
              "      <th>eth_volume_rolling3</th>\n",
              "      <th>ltc_open_rolling3</th>\n",
              "      <th>ltc_close_rolling3</th>\n",
              "      <th>ltc_volume_rolling3</th>\n",
              "      <th>btc_low_rolling3</th>\n",
              "      <th>eth_low_rolling3</th>\n",
              "      <th>ltc_low_rolling3</th>\n",
              "      <th>btc_high_rolling3</th>\n",
              "      <th>eth_high_rolling3</th>\n",
              "      <th>ltc_high_rolling3</th>\n",
              "      <th>btc_open_rolling7</th>\n",
              "      <th>btc_close_rolling7</th>\n",
              "      <th>btc_volume_rolling7</th>\n",
              "      <th>eth_open_rolling7</th>\n",
              "      <th>eth_close_rolling7</th>\n",
              "      <th>eth_volume_rolling7</th>\n",
              "      <th>ltc_open_rolling7</th>\n",
              "      <th>ltc_close_rolling7</th>\n",
              "      <th>ltc_volume_rolling7</th>\n",
              "      <th>btc_low_rolling7</th>\n",
              "      <th>eth_low_rolling7</th>\n",
              "      <th>ltc_low_rolling7</th>\n",
              "      <th>btc_high_rolling7</th>\n",
              "      <th>eth_high_rolling7</th>\n",
              "      <th>ltc_high_rolling7</th>\n",
              "      <th>row</th>\n",
              "    </tr>\n",
              "  </thead>\n",
              "  <tbody>\n",
              "    <tr>\n",
              "      <th>0</th>\n",
              "      <td>2020-06-01 00:55:00</td>\n",
              "      <td>9478.46</td>\n",
              "      <td>232.69</td>\n",
              "      <td>45.78</td>\n",
              "      <td>9496.15</td>\n",
              "      <td>233.15</td>\n",
              "      <td>45.84</td>\n",
              "      <td>9478.46</td>\n",
              "      <td>232.57</td>\n",
              "      <td>45.77</td>\n",
              "      <td>9505.70</td>\n",
              "      <td>233.23</td>\n",
              "      <td>45.87</td>\n",
              "      <td>158.074283</td>\n",
              "      <td>233.791027</td>\n",
              "      <td>738.579154</td>\n",
              "      <td>9475.9475</td>\n",
              "      <td>9471.1150</td>\n",
              "      <td>20.582157</td>\n",
              "      <td>232.8775</td>\n",
              "      <td>232.6825</td>\n",
              "      <td>351.196669</td>\n",
              "      <td>45.7975</td>\n",
              "      <td>45.7725</td>\n",
              "      <td>421.570335</td>\n",
              "      <td>9455.31</td>\n",
              "      <td>231.9</td>\n",
              "      <td>45.70</td>\n",
              "      <td>9487.83</td>\n",
              "      <td>233.41</td>\n",
              "      <td>45.84</td>\n",
              "      <td>9469.28125</td>\n",
              "      <td>9473.35875</td>\n",
              "      <td>29.336577</td>\n",
              "      <td>232.6100</td>\n",
              "      <td>232.75750</td>\n",
              "      <td>529.601735</td>\n",
              "      <td>45.72250</td>\n",
              "      <td>45.76875</td>\n",
              "      <td>478.871710</td>\n",
              "      <td>9426.26</td>\n",
              "      <td>230.91</td>\n",
              "      <td>45.37</td>\n",
              "      <td>9492.77</td>\n",
              "      <td>233.68</td>\n",
              "      <td>45.85</td>\n",
              "      <td>11</td>\n",
              "    </tr>\n",
              "    <tr>\n",
              "      <th>1</th>\n",
              "      <td>2020-06-01 01:00:00</td>\n",
              "      <td>9496.15</td>\n",
              "      <td>233.14</td>\n",
              "      <td>45.86</td>\n",
              "      <td>9489.98</td>\n",
              "      <td>233.23</td>\n",
              "      <td>45.82</td>\n",
              "      <td>9485.83</td>\n",
              "      <td>232.88</td>\n",
              "      <td>45.80</td>\n",
              "      <td>9500.01</td>\n",
              "      <td>233.23</td>\n",
              "      <td>45.87</td>\n",
              "      <td>64.382889</td>\n",
              "      <td>494.048485</td>\n",
              "      <td>147.100535</td>\n",
              "      <td>9471.7500</td>\n",
              "      <td>9469.6000</td>\n",
              "      <td>17.319064</td>\n",
              "      <td>232.6750</td>\n",
              "      <td>232.5450</td>\n",
              "      <td>287.156502</td>\n",
              "      <td>45.7600</td>\n",
              "      <td>45.7625</td>\n",
              "      <td>400.382088</td>\n",
              "      <td>9455.31</td>\n",
              "      <td>231.9</td>\n",
              "      <td>45.67</td>\n",
              "      <td>9487.83</td>\n",
              "      <td>233.41</td>\n",
              "      <td>45.83</td>\n",
              "      <td>9473.67000</td>\n",
              "      <td>9474.43625</td>\n",
              "      <td>25.502253</td>\n",
              "      <td>232.7525</td>\n",
              "      <td>232.80750</td>\n",
              "      <td>409.945847</td>\n",
              "      <td>45.75875</td>\n",
              "      <td>45.78375</td>\n",
              "      <td>384.768656</td>\n",
              "      <td>9455.31</td>\n",
              "      <td>231.90</td>\n",
              "      <td>45.67</td>\n",
              "      <td>9492.77</td>\n",
              "      <td>233.68</td>\n",
              "      <td>45.85</td>\n",
              "      <td>12</td>\n",
              "    </tr>\n",
              "    <tr>\n",
              "      <th>2</th>\n",
              "      <td>2020-06-01 01:05:00</td>\n",
              "      <td>9489.98</td>\n",
              "      <td>233.19</td>\n",
              "      <td>45.82</td>\n",
              "      <td>9484.56</td>\n",
              "      <td>232.93</td>\n",
              "      <td>45.79</td>\n",
              "      <td>9480.52</td>\n",
              "      <td>232.82</td>\n",
              "      <td>45.78</td>\n",
              "      <td>9494.87</td>\n",
              "      <td>233.23</td>\n",
              "      <td>45.82</td>\n",
              "      <td>33.837943</td>\n",
              "      <td>92.167659</td>\n",
              "      <td>46.467917</td>\n",
              "      <td>9470.7300</td>\n",
              "      <td>9472.9325</td>\n",
              "      <td>17.065967</td>\n",
              "      <td>232.5375</td>\n",
              "      <td>232.5400</td>\n",
              "      <td>351.736223</td>\n",
              "      <td>45.7525</td>\n",
              "      <td>45.7725</td>\n",
              "      <td>395.101619</td>\n",
              "      <td>9455.31</td>\n",
              "      <td>231.9</td>\n",
              "      <td>45.67</td>\n",
              "      <td>9487.94</td>\n",
              "      <td>233.00</td>\n",
              "      <td>45.82</td>\n",
              "      <td>9474.56625</td>\n",
              "      <td>9474.64750</td>\n",
              "      <td>22.372068</td>\n",
              "      <td>232.7975</td>\n",
              "      <td>232.76875</td>\n",
              "      <td>404.007839</td>\n",
              "      <td>45.77375</td>\n",
              "      <td>45.78750</td>\n",
              "      <td>312.964317</td>\n",
              "      <td>9455.31</td>\n",
              "      <td>231.90</td>\n",
              "      <td>45.67</td>\n",
              "      <td>9492.77</td>\n",
              "      <td>233.68</td>\n",
              "      <td>45.85</td>\n",
              "      <td>13</td>\n",
              "    </tr>\n",
              "  </tbody>\n",
              "</table>\n",
              "</div>"
            ],
            "text/plain": [
              "                  time  btc_open  ...  ltc_high_rolling7  row\n",
              "0  2020-06-01 00:55:00   9478.46  ...              45.85   11\n",
              "1  2020-06-01 01:00:00   9496.15  ...              45.85   12\n",
              "2  2020-06-01 01:05:00   9489.98  ...              45.85   13\n",
              "\n",
              "[3 rows x 47 columns]"
            ]
          },
          "metadata": {}
        }
      ]
    },
    {
      "cell_type": "markdown",
      "metadata": {
        "id": "Uw4zoRgtnkeI"
      },
      "source": [
        "### Quick bit of feature engineering then build simple model"
      ]
    },
    {
      "cell_type": "code",
      "metadata": {
        "colab": {
          "base_uri": "https://localhost:8080/",
          "height": 163
        },
        "id": "5s047OZLnnhG",
        "outputId": "117ff621-f112-4fb9-9415-3808ff5f30df"
      },
      "source": [
        "# Feature engineering\n",
        "\n",
        "coins=['btc','eth','ltc']\n",
        "\n",
        "# Range\n",
        "featExprs=[f\"({coin}_high_rolling{l}-{coin}_low_rolling{l})/{coin}_low_rolling{l} as {coin}_range_rolling{l}\" \n",
        "           for coin in coins for l in [3,7]]\n",
        "# Delta close\n",
        "featExprs+=[f\"\"\"({coin}_close_rolling{lpair[1]}-{coin}_close_rolling{lpair[0]})/{coin}_close_rolling{lpair[1]} \n",
        "            as {coin}_delta_rolling{lpair[0]}_{lpair[1]}\"\"\" for coin in coins for lpair in [(7,3)]]\n",
        "# Volume close\n",
        "featExprs+=[f\"\"\"({coin}_volume_rolling{lpair[1]}-{coin}_volume_rolling{lpair[0]})/{coin}_volume_rolling{lpair[1]} \n",
        "            as {coin}_volume_rolling{lpair[0]}_{lpair[1]}\"\"\" for coin in coins for lpair in [(7,3)]]\n",
        "\n",
        "# Day of week\n",
        "featExprs+=[\"dayofweek(time) as dow\"]\n",
        "\n",
        "# Label\n",
        "featExprs+=[\"(btc_close-btc_close_rolling3)/btc_close_rolling3 as label\"]\n",
        "\n",
        "display(df.selectExpr(featExprs).limit(3).toPandas())"
      ],
      "execution_count": 104,
      "outputs": [
        {
          "output_type": "display_data",
          "data": {
            "text/html": [
              "<div>\n",
              "<style scoped>\n",
              "    .dataframe tbody tr th:only-of-type {\n",
              "        vertical-align: middle;\n",
              "    }\n",
              "\n",
              "    .dataframe tbody tr th {\n",
              "        vertical-align: top;\n",
              "    }\n",
              "\n",
              "    .dataframe thead th {\n",
              "        text-align: right;\n",
              "    }\n",
              "</style>\n",
              "<table border=\"1\" class=\"dataframe\">\n",
              "  <thead>\n",
              "    <tr style=\"text-align: right;\">\n",
              "      <th></th>\n",
              "      <th>btc_range_rolling3</th>\n",
              "      <th>btc_range_rolling7</th>\n",
              "      <th>eth_range_rolling3</th>\n",
              "      <th>eth_range_rolling7</th>\n",
              "      <th>ltc_range_rolling3</th>\n",
              "      <th>ltc_range_rolling7</th>\n",
              "      <th>btc_delta_rolling7_3</th>\n",
              "      <th>eth_delta_rolling7_3</th>\n",
              "      <th>ltc_delta_rolling7_3</th>\n",
              "      <th>btc_volume_rolling7_3</th>\n",
              "      <th>eth_volume_rolling7_3</th>\n",
              "      <th>ltc_volume_rolling7_3</th>\n",
              "      <th>dow</th>\n",
              "      <th>label</th>\n",
              "    </tr>\n",
              "  </thead>\n",
              "  <tbody>\n",
              "    <tr>\n",
              "      <th>0</th>\n",
              "      <td>0.003439</td>\n",
              "      <td>0.007056</td>\n",
              "      <td>0.006511</td>\n",
              "      <td>0.011996</td>\n",
              "      <td>0.003063</td>\n",
              "      <td>0.010580</td>\n",
              "      <td>-0.000237</td>\n",
              "      <td>-0.000322</td>\n",
              "      <td>0.000082</td>\n",
              "      <td>-0.425340</td>\n",
              "      <td>-0.507992</td>\n",
              "      <td>-0.135924</td>\n",
              "      <td>2</td>\n",
              "      <td>0.002643</td>\n",
              "    </tr>\n",
              "    <tr>\n",
              "      <th>1</th>\n",
              "      <td>0.003439</td>\n",
              "      <td>0.003962</td>\n",
              "      <td>0.006511</td>\n",
              "      <td>0.007676</td>\n",
              "      <td>0.003503</td>\n",
              "      <td>0.003941</td>\n",
              "      <td>-0.000511</td>\n",
              "      <td>-0.001129</td>\n",
              "      <td>-0.000464</td>\n",
              "      <td>-0.472496</td>\n",
              "      <td>-0.427604</td>\n",
              "      <td>0.038996</td>\n",
              "      <td>2</td>\n",
              "      <td>0.002152</td>\n",
              "    </tr>\n",
              "    <tr>\n",
              "      <th>2</th>\n",
              "      <td>0.003451</td>\n",
              "      <td>0.003962</td>\n",
              "      <td>0.004743</td>\n",
              "      <td>0.007676</td>\n",
              "      <td>0.003284</td>\n",
              "      <td>0.003941</td>\n",
              "      <td>-0.000181</td>\n",
              "      <td>-0.000984</td>\n",
              "      <td>-0.000328</td>\n",
              "      <td>-0.310917</td>\n",
              "      <td>-0.148610</td>\n",
              "      <td>0.207889</td>\n",
              "      <td>2</td>\n",
              "      <td>0.001227</td>\n",
              "    </tr>\n",
              "  </tbody>\n",
              "</table>\n",
              "</div>"
            ],
            "text/plain": [
              "   btc_range_rolling3  btc_range_rolling7  ...  dow     label\n",
              "0            0.003439            0.007056  ...    2  0.002643\n",
              "1            0.003439            0.003962  ...    2  0.002152\n",
              "2            0.003451            0.003962  ...    2  0.001227\n",
              "\n",
              "[3 rows x 14 columns]"
            ]
          },
          "metadata": {}
        }
      ]
    },
    {
      "cell_type": "code",
      "metadata": {
        "id": "y6nA3YaBuqFU"
      },
      "source": [
        "# Model!"
      ],
      "execution_count": null,
      "outputs": []
    },
    {
      "cell_type": "markdown",
      "metadata": {
        "id": "UyPGmA_9hDSL"
      },
      "source": [
        "### Simple data checks"
      ]
    },
    {
      "cell_type": "code",
      "metadata": {
        "colab": {
          "base_uri": "https://localhost:8080/",
          "height": 269
        },
        "id": "7oYRNcZihPHf",
        "outputId": "31c63d54-ecee-4eda-81d3-501d3b2944bf"
      },
      "source": [
        "# Low and high prices should always bracket all the other prices\n",
        "df.groupby(*[F.expr(f\"{coin}_close between {coin}_low and {coin}_high as {coin}_close_check\")\n",
        "           for coin in ['btc','eth','ltc']],\n",
        "           *[F.expr(f\"{coin}_open between {coin}_low and {coin}_high as {coin}_open_check\")\n",
        "           for coin in ['btc','eth','ltc']]).count().toPandas().T"
      ],
      "execution_count": 83,
      "outputs": [
        {
          "output_type": "execute_result",
          "data": {
            "text/html": [
              "<div>\n",
              "<style scoped>\n",
              "    .dataframe tbody tr th:only-of-type {\n",
              "        vertical-align: middle;\n",
              "    }\n",
              "\n",
              "    .dataframe tbody tr th {\n",
              "        vertical-align: top;\n",
              "    }\n",
              "\n",
              "    .dataframe thead th {\n",
              "        text-align: right;\n",
              "    }\n",
              "</style>\n",
              "<table border=\"1\" class=\"dataframe\">\n",
              "  <thead>\n",
              "    <tr style=\"text-align: right;\">\n",
              "      <th></th>\n",
              "      <th>0</th>\n",
              "    </tr>\n",
              "  </thead>\n",
              "  <tbody>\n",
              "    <tr>\n",
              "      <th>btc_close_check</th>\n",
              "      <td>True</td>\n",
              "    </tr>\n",
              "    <tr>\n",
              "      <th>eth_close_check</th>\n",
              "      <td>True</td>\n",
              "    </tr>\n",
              "    <tr>\n",
              "      <th>ltc_close_check</th>\n",
              "      <td>True</td>\n",
              "    </tr>\n",
              "    <tr>\n",
              "      <th>btc_open_check</th>\n",
              "      <td>True</td>\n",
              "    </tr>\n",
              "    <tr>\n",
              "      <th>eth_open_check</th>\n",
              "      <td>True</td>\n",
              "    </tr>\n",
              "    <tr>\n",
              "      <th>ltc_open_check</th>\n",
              "      <td>True</td>\n",
              "    </tr>\n",
              "    <tr>\n",
              "      <th>count</th>\n",
              "      <td>131250</td>\n",
              "    </tr>\n",
              "  </tbody>\n",
              "</table>\n",
              "</div>"
            ],
            "text/plain": [
              "                      0\n",
              "btc_close_check    True\n",
              "eth_close_check    True\n",
              "ltc_close_check    True\n",
              "btc_open_check     True\n",
              "eth_open_check     True\n",
              "ltc_open_check     True\n",
              "count            131250"
            ]
          },
          "metadata": {},
          "execution_count": 83
        }
      ]
    },
    {
      "cell_type": "code",
      "metadata": {
        "colab": {
          "base_uri": "https://localhost:8080/"
        },
        "id": "nibxoCgyGiNZ",
        "outputId": "7099480e-d77e-4283-b00f-f1f8e55bc61d"
      },
      "source": [
        "print(f\"num_rows: {df.count()}\\n\\ncolumns:\\n-------\")\n",
        "for cols in [df.columns[tmp:tmp+5] for tmp in range(0,len(df.columns),5)]: print(\", \".join(cols))"
      ],
      "execution_count": 76,
      "outputs": [
        {
          "output_type": "stream",
          "name": "stdout",
          "text": [
            "num_rows: 131250\n",
            "\n",
            "columns:\n",
            "-------\n",
            "time, btc_open, eth_open, ltc_open, btc_close\n",
            "eth_close, ltc_close, btc_low, eth_low, ltc_low\n",
            "btc_high, eth_high, ltc_high, btc_volume, eth_volume\n",
            "ltc_volume, btc_open_rolling3, btc_close_rolling3, btc_volume_rolling3, eth_open_rolling3\n",
            "eth_close_rolling3, eth_volume_rolling3, ltc_open_rolling3, ltc_close_rolling3, ltc_volume_rolling3\n",
            "btc_low_rolling3, eth_low_rolling3, ltc_low_rolling3, btc_high_rolling3, eth_high_rolling3\n",
            "ltc_high_rolling3, btc_open_rolling7, btc_close_rolling7, btc_volume_rolling7, eth_open_rolling7\n",
            "eth_close_rolling7, eth_volume_rolling7, ltc_open_rolling7, ltc_close_rolling7, ltc_volume_rolling7\n",
            "btc_low_rolling7, eth_low_rolling7, ltc_low_rolling7, btc_high_rolling7, eth_high_rolling7\n",
            "ltc_high_rolling7, row\n"
          ]
        }
      ]
    },
    {
      "cell_type": "markdown",
      "metadata": {
        "id": "4Q68bnjx0lY-"
      },
      "source": [
        "### Scratch"
      ]
    },
    {
      "cell_type": "code",
      "metadata": {
        "colab": {
          "base_uri": "https://localhost:8080/"
        },
        "id": "1W0JrgRkwJi7",
        "outputId": "a1cfc417-f1e5-444f-cbef-9f5d2a1ca0e8"
      },
      "source": [
        "import requests\n",
        "response = requests.get('https://api.coindesk.com/v1/bpi/currentprice.json')\n",
        "data = response.json()\n",
        "print(data)"
      ],
      "execution_count": null,
      "outputs": [
        {
          "output_type": "stream",
          "name": "stdout",
          "text": [
            "{'time': {'updated': 'Aug 31, 2021 05:49:00 UTC', 'updatedISO': '2021-08-31T05:49:00+00:00', 'updateduk': 'Aug 31, 2021 at 06:49 BST'}, 'disclaimer': 'This data was produced from the CoinDesk Bitcoin Price Index (USD). Non-USD currency data converted using hourly conversion rate from openexchangerates.org', 'chartName': 'Bitcoin', 'bpi': {'USD': {'code': 'USD', 'symbol': '&#36;', 'rate': '47,195.4600', 'description': 'United States Dollar', 'rate_float': 47195.46}, 'GBP': {'code': 'GBP', 'symbol': '&pound;', 'rate': '34,250.5476', 'description': 'British Pound Sterling', 'rate_float': 34250.5476}, 'EUR': {'code': 'EUR', 'symbol': '&euro;', 'rate': '39,935.0992', 'description': 'Euro', 'rate_float': 39935.0992}}}\n"
          ]
        }
      ]
    },
    {
      "cell_type": "code",
      "metadata": {
        "id": "50RI7mB1N3Kl"
      },
      "source": [
        "/content/drive/MyDrive/colab_files"
      ],
      "execution_count": null,
      "outputs": []
    }
  ]
}