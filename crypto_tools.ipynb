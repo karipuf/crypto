{
  "nbformat": 4,
  "nbformat_minor": 0,
  "metadata": {
    "colab": {
      "name": "crypto_tools",
      "provenance": [],
      "collapsed_sections": [],
      "mount_file_id": "1kje3hC7tomjJVubRM1sFdJsrHrH8bDyV",
      "authorship_tag": "ABX9TyN3c/tXPDE0nb/4dwBmHAas",
      "include_colab_link": true
    },
    "kernelspec": {
      "name": "python3",
      "display_name": "Python 3"
    },
    "language_info": {
      "name": "python"
    }
  },
  "cells": [
    {
      "cell_type": "markdown",
      "metadata": {
        "id": "view-in-github",
        "colab_type": "text"
      },
      "source": [
        "<a href=\"https://colab.research.google.com/github/karipuf/crypto/blob/master/crypto_tools.ipynb\" target=\"_parent\"><img src=\"https://colab.research.google.com/assets/colab-badge.svg\" alt=\"Open In Colab\"/></a>"
      ]
    },
    {
      "cell_type": "markdown",
      "metadata": {
        "id": "3Yl6cA_h8MkD"
      },
      "source": [
        "### Setting stuff up"
      ]
    },
    {
      "cell_type": "code",
      "metadata": {
        "id": "RPddZqFu-Ujk",
        "colab": {
          "base_uri": "https://localhost:8080/"
        },
        "cellView": "form",
        "outputId": "7a84a8cb-ac42-40a0-b02a-e9a09551c915"
      },
      "source": [
        "#@title Imports\n",
        "\n",
        "\n",
        "from Historic_Crypto import HistoricalData,Cryptocurrencies,LiveCryptoData\n",
        "import loguru,pylab as pl,mlflow,pyspark,lightgbm,sklearn,pandas as pd,\\\n",
        "numpy as np,pyspark.sql.functions as F,re\n",
        "from pyspark.sql.window import Window\n",
        "from itertools import count\n",
        "from functools import reduce\n",
        "from lightgbm import LGBMRegressor,LGBMClassifier\n",
        "from loguru import logger\n",
        "\n",
        "spark=pyspark.sql.SparkSession.builder.getOrCreate()\n",
        "root_path=\"/content/drive/MyDrive/cryptooo/\"\n",
        "\n",
        "mlflow.set_tracking_uri(f\"{root_path}mlflow\")\n",
        "mlflow.set_experiment(\"cryptooo\")\n",
        "logger.add(open(f\"{root_path}logs/log1\",\"w+\"))\n"
      ],
      "execution_count": null,
      "outputs": [
        {
          "output_type": "execute_result",
          "data": {
            "text/plain": [
              "1"
            ]
          },
          "metadata": {},
          "execution_count": 27
        }
      ]
    },
    {
      "cell_type": "code",
      "metadata": {
        "id": "ndgA2Nfb_X6L",
        "cellView": "form"
      },
      "source": [
        "#@title Local definitions\n",
        "# Local definitions\n",
        "\n",
        "rollback=lambda l,n:Window.orderBy(\"time\").rowsBetween(-(l+n),Window.currentRow-n)\n",
        "def rollingRows(coins=['btc','eth','ltc'],winlens=[3,7],\n",
        "                avg_kpis=[\"open\",\"close\",\"volume\"],\n",
        "                min_kpis=['low'],max_kpis=['high'],lag=3):\n",
        "  \n",
        "  rows=[]\n",
        "  for l in winlens:\n",
        "    rows.append([F.avg(tmp).over(rollback(l,lag)).alias(f\"{tmp}_rolling{l}\") for tmp in \n",
        "    (f\"{coin}_{kpi}\" for coin in coins for kpi in avg_kpis)])\n",
        "    rows.append([F.min(tmp).over(rollback(l,lag)).alias(f\"{tmp}_rolling{l}\") for tmp in \n",
        "    (f\"{coin}_{kpi}\" for coin in coins for kpi in min_kpis)])\n",
        "    rows.append([F.max(tmp).over(rollback(l,lag)).alias(f\"{tmp}_rolling{l}\") for tmp in \n",
        "    (f\"{coin}_{kpi}\" for coin in coins for kpi in max_kpis)])\n",
        "\n",
        "  return reduce(lambda x,y:x+y,rows)"
      ],
      "execution_count": null,
      "outputs": []
    },
    {
      "cell_type": "markdown",
      "metadata": {
        "id": "uEA4-1B88kzj"
      },
      "source": [
        "## Get some data to play about with"
      ]
    },
    {
      "cell_type": "code",
      "metadata": {
        "id": "A8SF9dSG2f5A",
        "colab": {
          "base_uri": "https://localhost:8080/"
        },
        "collapsed": true,
        "outputId": "86cc871f-493c-4a62-995a-b2ca41277df5"
      },
      "source": [
        "# Generate list of currencies\n",
        "pf=Cryptocurrencies(coin_search=\"USD\").find_crypto_pairs()\n",
        "\n",
        "for fname,symb in [(\"btc.csv\",\"BTC-USD\"),\n",
        "                   (\"eth.csv\",\"ETH-USD\"),\n",
        "                   (\"ltc.csv\",\"LTC-USD\")]:\n",
        "  try:\n",
        "    pf_ = pd.read_csv(f\"{root_path}/data/{fname}\")\n",
        "  except FileNotFoundError:\n",
        "    pf_ = HistoricalData(symb,3600,'2020-08-01-00-00').retrieve_data()\n",
        "    pf_.to_csv(f\"{root_path}/data/{fname}\")\n",
        "\n",
        "  # Creating pandas and spark dataframes\n",
        "  varname=re.compile(\"(\\S+)\\.csv\").findall(fname)[0]\n",
        "  exec(f\"p{varname}=pf_\")\n",
        "  exec(f\"d{varname}=spark.createDataFrame(p{varname}.reset_index())\")\n",
        "\n",
        "  logger.info(f\"Created p{varname} and d{varname}\")"
      ],
      "execution_count": null,
      "outputs": [
        {
          "output_type": "stream",
          "name": "stdout",
          "text": [
            "Connected to the CoinBase Pro API.\n",
            "Found 133 instances containing the term USD.\n"
          ]
        },
        {
          "output_type": "stream",
          "name": "stderr",
          "text": [
            "2021-09-11 18:03:37.267 | INFO     | __main__:<module>:19 - Created pbtc and dbtc\n",
            "2021-09-11 18:03:38.207 | INFO     | __main__:<module>:19 - Created peth and deth\n",
            "2021-09-11 18:03:39.112 | INFO     | __main__:<module>:19 - Created pltc and dltc\n"
          ]
        }
      ]
    },
    {
      "cell_type": "code",
      "metadata": {
        "id": "v5b7d_tE83MD",
        "colab": {
          "base_uri": "https://localhost:8080/",
          "height": 267
        },
        "outputId": "1a959de7-57cb-40cb-bbdc-1e8c9783d557"
      },
      "source": [
        "# ETL\n",
        "\n",
        "combined=(reduce(lambda x,y:x.join(y,\"time\"),\n",
        "          [dbtc.alias(\"dbtc\"),deth.alias(\"deth\"),dltc.alias(\"dltc\")])\n",
        ".select(\"time\",*[F.expr(f\"d{coin}.{kpi}\").alias(f\"{coin}_{kpi}\")\n",
        "    for kpi in ('open','close','low','high','volume')\n",
        "    for coin in ('btc','eth','ltc')]).orderBy(\"time\"))\n",
        "\n",
        "df=(combined.alias(\"combined\").select(\"combined.*\",*rollingRows())\\\n",
        ".withColumn(\"row\",F.rank().over(Window.orderBy(\"time\"))).where(\"row>10\") # Removing first n rows to allow for rolling windows\n",
        ".orderBy(\"time\"))\n",
        "\n",
        "#display(df.limit(3).toPandas())"
      ],
      "execution_count": null,
      "outputs": [
        {
          "output_type": "display_data",
          "data": {
            "text/html": [
              "<div>\n",
              "<style scoped>\n",
              "    .dataframe tbody tr th:only-of-type {\n",
              "        vertical-align: middle;\n",
              "    }\n",
              "\n",
              "    .dataframe tbody tr th {\n",
              "        vertical-align: top;\n",
              "    }\n",
              "\n",
              "    .dataframe thead th {\n",
              "        text-align: right;\n",
              "    }\n",
              "</style>\n",
              "<table border=\"1\" class=\"dataframe\">\n",
              "  <thead>\n",
              "    <tr style=\"text-align: right;\">\n",
              "      <th></th>\n",
              "      <th>time</th>\n",
              "      <th>btc_open</th>\n",
              "      <th>eth_open</th>\n",
              "      <th>ltc_open</th>\n",
              "      <th>btc_close</th>\n",
              "      <th>eth_close</th>\n",
              "      <th>ltc_close</th>\n",
              "      <th>btc_low</th>\n",
              "      <th>eth_low</th>\n",
              "      <th>ltc_low</th>\n",
              "      <th>btc_high</th>\n",
              "      <th>eth_high</th>\n",
              "      <th>ltc_high</th>\n",
              "      <th>btc_volume</th>\n",
              "      <th>eth_volume</th>\n",
              "      <th>ltc_volume</th>\n",
              "      <th>btc_open_rolling3</th>\n",
              "      <th>btc_close_rolling3</th>\n",
              "      <th>btc_volume_rolling3</th>\n",
              "      <th>eth_open_rolling3</th>\n",
              "      <th>eth_close_rolling3</th>\n",
              "      <th>eth_volume_rolling3</th>\n",
              "      <th>ltc_open_rolling3</th>\n",
              "      <th>ltc_close_rolling3</th>\n",
              "      <th>ltc_volume_rolling3</th>\n",
              "      <th>btc_low_rolling3</th>\n",
              "      <th>eth_low_rolling3</th>\n",
              "      <th>ltc_low_rolling3</th>\n",
              "      <th>btc_high_rolling3</th>\n",
              "      <th>eth_high_rolling3</th>\n",
              "      <th>ltc_high_rolling3</th>\n",
              "      <th>btc_open_rolling7</th>\n",
              "      <th>btc_close_rolling7</th>\n",
              "      <th>btc_volume_rolling7</th>\n",
              "      <th>eth_open_rolling7</th>\n",
              "      <th>eth_close_rolling7</th>\n",
              "      <th>eth_volume_rolling7</th>\n",
              "      <th>ltc_open_rolling7</th>\n",
              "      <th>ltc_close_rolling7</th>\n",
              "      <th>ltc_volume_rolling7</th>\n",
              "      <th>btc_low_rolling7</th>\n",
              "      <th>eth_low_rolling7</th>\n",
              "      <th>ltc_low_rolling7</th>\n",
              "      <th>btc_high_rolling7</th>\n",
              "      <th>eth_high_rolling7</th>\n",
              "      <th>ltc_high_rolling7</th>\n",
              "      <th>row</th>\n",
              "    </tr>\n",
              "  </thead>\n",
              "  <tbody>\n",
              "    <tr>\n",
              "      <th>0</th>\n",
              "      <td>2020-08-01 11:00:00</td>\n",
              "      <td>11634.38</td>\n",
              "      <td>355.23</td>\n",
              "      <td>59.55</td>\n",
              "      <td>11667.58</td>\n",
              "      <td>356.53</td>\n",
              "      <td>59.92</td>\n",
              "      <td>11561.56</td>\n",
              "      <td>353.35</td>\n",
              "      <td>59.33</td>\n",
              "      <td>11667.58</td>\n",
              "      <td>356.79</td>\n",
              "      <td>59.93</td>\n",
              "      <td>425.599125</td>\n",
              "      <td>4008.054495</td>\n",
              "      <td>5826.619624</td>\n",
              "      <td>11582.455</td>\n",
              "      <td>11654.7600</td>\n",
              "      <td>882.248475</td>\n",
              "      <td>355.5375</td>\n",
              "      <td>356.2675</td>\n",
              "      <td>8957.657220</td>\n",
              "      <td>59.9775</td>\n",
              "      <td>59.8850</td>\n",
              "      <td>16414.317599</td>\n",
              "      <td>11379.70</td>\n",
              "      <td>353.85</td>\n",
              "      <td>58.38</td>\n",
              "      <td>11761.97</td>\n",
              "      <td>358.69</td>\n",
              "      <td>60.72</td>\n",
              "      <td>11448.11000</td>\n",
              "      <td>11500.61125</td>\n",
              "      <td>693.499461</td>\n",
              "      <td>351.51250</td>\n",
              "      <td>353.100</td>\n",
              "      <td>9370.098110</td>\n",
              "      <td>59.2875</td>\n",
              "      <td>59.52625</td>\n",
              "      <td>19287.732063</td>\n",
              "      <td>11245.13</td>\n",
              "      <td>343.75</td>\n",
              "      <td>57.67</td>\n",
              "      <td>11761.97</td>\n",
              "      <td>358.69</td>\n",
              "      <td>60.72</td>\n",
              "      <td>11</td>\n",
              "    </tr>\n",
              "    <tr>\n",
              "      <th>1</th>\n",
              "      <td>2020-08-01 12:00:00</td>\n",
              "      <td>11667.58</td>\n",
              "      <td>356.53</td>\n",
              "      <td>59.92</td>\n",
              "      <td>11681.00</td>\n",
              "      <td>357.49</td>\n",
              "      <td>59.88</td>\n",
              "      <td>11645.11</td>\n",
              "      <td>355.89</td>\n",
              "      <td>59.63</td>\n",
              "      <td>11701.00</td>\n",
              "      <td>357.76</td>\n",
              "      <td>59.95</td>\n",
              "      <td>675.329904</td>\n",
              "      <td>6956.531368</td>\n",
              "      <td>7281.749042</td>\n",
              "      <td>11654.755</td>\n",
              "      <td>11678.5075</td>\n",
              "      <td>602.375838</td>\n",
              "      <td>356.2550</td>\n",
              "      <td>357.1375</td>\n",
              "      <td>6839.781067</td>\n",
              "      <td>59.8825</td>\n",
              "      <td>59.8925</td>\n",
              "      <td>13641.727353</td>\n",
              "      <td>11575.61</td>\n",
              "      <td>354.13</td>\n",
              "      <td>58.38</td>\n",
              "      <td>11761.97</td>\n",
              "      <td>360.82</td>\n",
              "      <td>60.44</td>\n",
              "      <td>11500.59375</td>\n",
              "      <td>11554.35500</td>\n",
              "      <td>687.864051</td>\n",
              "      <td>353.09250</td>\n",
              "      <td>354.835</td>\n",
              "      <td>9580.836733</td>\n",
              "      <td>59.5250</td>\n",
              "      <td>59.80500</td>\n",
              "      <td>19635.375762</td>\n",
              "      <td>11278.49</td>\n",
              "      <td>345.44</td>\n",
              "      <td>57.97</td>\n",
              "      <td>11761.97</td>\n",
              "      <td>360.82</td>\n",
              "      <td>60.72</td>\n",
              "      <td>12</td>\n",
              "    </tr>\n",
              "    <tr>\n",
              "      <th>2</th>\n",
              "      <td>2020-08-01 13:00:00</td>\n",
              "      <td>11681.00</td>\n",
              "      <td>357.35</td>\n",
              "      <td>59.91</td>\n",
              "      <td>11540.00</td>\n",
              "      <td>353.95</td>\n",
              "      <td>58.99</td>\n",
              "      <td>11490.63</td>\n",
              "      <td>352.95</td>\n",
              "      <td>58.74</td>\n",
              "      <td>11681.00</td>\n",
              "      <td>357.43</td>\n",
              "      <td>59.92</td>\n",
              "      <td>1194.913019</td>\n",
              "      <td>7488.993224</td>\n",
              "      <td>10820.404100</td>\n",
              "      <td>11678.505</td>\n",
              "      <td>11674.1100</td>\n",
              "      <td>400.029166</td>\n",
              "      <td>357.1275</td>\n",
              "      <td>356.8350</td>\n",
              "      <td>6980.833678</td>\n",
              "      <td>59.8825</td>\n",
              "      <td>59.7650</td>\n",
              "      <td>11865.192451</td>\n",
              "      <td>11580.58</td>\n",
              "      <td>351.70</td>\n",
              "      <td>58.38</td>\n",
              "      <td>11738.00</td>\n",
              "      <td>360.82</td>\n",
              "      <td>60.80</td>\n",
              "      <td>11554.33750</td>\n",
              "      <td>11590.87375</td>\n",
              "      <td>660.237394</td>\n",
              "      <td>354.82625</td>\n",
              "      <td>355.865</td>\n",
              "      <td>9893.490802</td>\n",
              "      <td>59.7975</td>\n",
              "      <td>59.86375</td>\n",
              "      <td>17320.020219</td>\n",
              "      <td>11332.66</td>\n",
              "      <td>345.78</td>\n",
              "      <td>58.38</td>\n",
              "      <td>11761.97</td>\n",
              "      <td>360.82</td>\n",
              "      <td>60.80</td>\n",
              "      <td>13</td>\n",
              "    </tr>\n",
              "  </tbody>\n",
              "</table>\n",
              "</div>"
            ],
            "text/plain": [
              "                  time  btc_open  ...  ltc_high_rolling7  row\n",
              "0  2020-08-01 11:00:00  11634.38  ...              60.72   11\n",
              "1  2020-08-01 12:00:00  11667.58  ...              60.72   12\n",
              "2  2020-08-01 13:00:00  11681.00  ...              60.80   13\n",
              "\n",
              "[3 rows x 47 columns]"
            ]
          },
          "metadata": {}
        }
      ]
    }
  ]
}