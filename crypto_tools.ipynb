{
  "nbformat": 4,
  "nbformat_minor": 0,
  "metadata": {
    "colab": {
      "name": "crypto_tools",
      "provenance": [],
      "collapsed_sections": [],
      "mount_file_id": "1kje3hC7tomjJVubRM1sFdJsrHrH8bDyV",
      "authorship_tag": "ABX9TyO/CFt2vVgqnxRF4hRH2eOb",
      "include_colab_link": true
    },
    "kernelspec": {
      "name": "python3",
      "display_name": "Python 3"
    },
    "language_info": {
      "name": "python"
    }
  },
  "cells": [
    {
      "cell_type": "markdown",
      "metadata": {
        "id": "view-in-github",
        "colab_type": "text"
      },
      "source": [
        "<a href=\"https://colab.research.google.com/github/karipuf/crypto/blob/master/crypto_tools.ipynb\" target=\"_parent\"><img src=\"https://colab.research.google.com/assets/colab-badge.svg\" alt=\"Open In Colab\"/></a>"
      ]
    },
    {
      "cell_type": "markdown",
      "metadata": {
        "id": "3Yl6cA_h8MkD"
      },
      "source": [
        "### Setting stuff up"
      ]
    },
    {
      "cell_type": "code",
      "metadata": {
        "id": "RPddZqFu-Ujk",
        "colab": {
          "base_uri": "https://localhost:8080/"
        },
        "cellView": "form",
        "outputId": "7a84a8cb-ac42-40a0-b02a-e9a09551c915"
      },
      "source": [
        "#@title Imports\n",
        "\n",
        "\n",
        "from Historic_Crypto import HistoricalData,Cryptocurrencies,LiveCryptoData\n",
        "import loguru,pylab as pl,mlflow,pyspark,lightgbm,sklearn,pandas as pd,\\\n",
        "numpy as np,pyspark.sql.functions as F,re\n",
        "from pyspark.sql.window import Window\n",
        "from itertools import count\n",
        "from functools import reduce\n",
        "from lightgbm import LGBMRegressor,LGBMClassifier\n",
        "from loguru import logger\n",
        "\n",
        "spark=pyspark.sql.SparkSession.builder.getOrCreate()\n",
        "root_path=\"/content/drive/MyDrive/cryptooo/\"\n",
        "\n",
        "mlflow.set_tracking_uri(f\"{root_path}mlflow\")\n",
        "mlflow.set_experiment(\"cryptooo\")\n",
        "logger.add(open(f\"{root_path}logs/log1\",\"w+\"))\n"
      ],
      "execution_count": null,
      "outputs": [
        {
          "output_type": "execute_result",
          "data": {
            "text/plain": [
              "1"
            ]
          },
          "metadata": {},
          "execution_count": 27
        }
      ]
    },
    {
      "cell_type": "code",
      "metadata": {
        "id": "ndgA2Nfb_X6L",
        "cellView": "form"
      },
      "source": [
        "#@title Local definitions\n",
        "# Local definitions\n",
        "\n",
        "rollback=lambda l,n:Window.orderBy(\"time\").rowsBetween(-(l+n),Window.currentRow-n)\n",
        "def rollingRows(coins=['btc','eth','ltc'],winlens=[3,7],\n",
        "                avg_kpis=[\"open\",\"close\",\"volume\"],\n",
        "                min_kpis=['low'],max_kpis=['high'],lag=3):\n",
        "  \n",
        "  rows=[]\n",
        "  for l in winlens:\n",
        "    rows.append([F.avg(tmp).over(rollback(l,lag)).alias(f\"{tmp}_rolling{l}\") for tmp in \n",
        "    (f\"{coin}_{kpi}\" for coin in coins for kpi in avg_kpis)])\n",
        "    rows.append([F.min(tmp).over(rollback(l,lag)).alias(f\"{tmp}_rolling{l}\") for tmp in \n",
        "    (f\"{coin}_{kpi}\" for coin in coins for kpi in min_kpis)])\n",
        "    rows.append([F.max(tmp).over(rollback(l,lag)).alias(f\"{tmp}_rolling{l}\") for tmp in \n",
        "    (f\"{coin}_{kpi}\" for coin in coins for kpi in max_kpis)])\n",
        "\n",
        "  return reduce(lambda x,y:x+y,rows)"
      ],
      "execution_count": null,
      "outputs": []
    },
    {
      "cell_type": "markdown",
      "metadata": {
        "id": "uEA4-1B88kzj"
      },
      "source": [
        "### Get some data to play about with"
      ]
    },
    {
      "cell_type": "code",
      "metadata": {
        "id": "A8SF9dSG2f5A",
        "colab": {
          "base_uri": "https://localhost:8080/"
        },
        "collapsed": true,
        "cellView": "form",
        "outputId": "86cc871f-493c-4a62-995a-b2ca41277df5"
      },
      "source": [
        "#@title Download data\n",
        "# Generate list of currencies\n",
        "pf=Cryptocurrencies(coin_search=\"USD\").find_crypto_pairs()\n",
        "\n",
        "for fname,symb in [(\"btc.csv\",\"BTC-USD\"),\n",
        "                   (\"eth.csv\",\"ETH-USD\"),\n",
        "                   (\"ltc.csv\",\"LTC-USD\")]:\n",
        "  try:\n",
        "    pf_ = pd.read_csv(f\"{root_path}/data/{fname}\")\n",
        "  except FileNotFoundError:\n",
        "    pf_ = HistoricalData(symb,3600,'2020-08-01-00-00').retrieve_data()\n",
        "    pf_.to_csv(f\"{root_path}/data/{fname}\")\n",
        "\n",
        "  # Creating pandas and spark dataframes\n",
        "  varname=re.compile(\"(\\S+)\\.csv\").findall(fname)[0]\n",
        "  exec(f\"p{varname}=pf_\")\n",
        "  exec(f\"d{varname}=spark.createDataFrame(p{varname}.reset_index())\")\n",
        "\n",
        "  logger.info(f\"Created p{varname} and d{varname}\")"
      ],
      "execution_count": null,
      "outputs": [
        {
          "output_type": "stream",
          "name": "stdout",
          "text": [
            "Connected to the CoinBase Pro API.\n",
            "Found 133 instances containing the term USD.\n"
          ]
        },
        {
          "output_type": "stream",
          "name": "stderr",
          "text": [
            "2021-09-11 18:03:37.267 | INFO     | __main__:<module>:19 - Created pbtc and dbtc\n",
            "2021-09-11 18:03:38.207 | INFO     | __main__:<module>:19 - Created peth and deth\n",
            "2021-09-11 18:03:39.112 | INFO     | __main__:<module>:19 - Created pltc and dltc\n"
          ]
        }
      ]
    },
    {
      "cell_type": "code",
      "metadata": {
        "colab": {
          "base_uri": "https://localhost:8080/",
          "height": 211
        },
        "id": "6dsghV6i2uDd",
        "cellView": "form",
        "outputId": "3df29345-5744-4760-d9b2-7acec5aaf870"
      },
      "source": [
        "#@title\n",
        "pl.figure(figsize=(16,3))\n",
        "pbtc.plot(y='close',ax=pl.gca())\n",
        "pl.gca().grid(True)\n",
        "display(pl.gca())"
      ],
      "execution_count": null,
      "outputs": [
        {
          "output_type": "display_data",
          "data": {
            "image/png": "[encoded data removed]",
            "text/plain": [
              "<Figure size 1152x216 with 1 Axes>"
            ]
          },
          "metadata": {
            "needs_background": "light"
          }
        }
      ]
    },
    {
      "cell_type": "code",
      "metadata": {
        "id": "v5b7d_tE83MD",
        "colab": {
          "base_uri": "https://localhost:8080/",
          "height": 267
        },
        "cellView": "form",
        "outputId": "1a959de7-57cb-40cb-bbdc-1e8c9783d557"
      },
      "source": [
        "#@title Join different sets and simple ETL\n",
        "# ETL\n",
        "\n",
        "combined=(reduce(lambda x,y:x.join(y,\"time\"),\n",
        "          [dbtc.alias(\"dbtc\"),deth.alias(\"deth\"),dltc.alias(\"dltc\")])\n",
        ".select(\"time\",*[F.expr(f\"d{coin}.{kpi}\").alias(f\"{coin}_{kpi}\")\n",
        "    for kpi in ('open','close','low','high','volume')\n",
        "    for coin in ('btc','eth','ltc')]).orderBy(\"time\"))\n",
        "\n",
        "df=(combined.alias(\"combined\").select(\"combined.*\",*rollingRows())\\\n",
        ".withColumn(\"row\",F.rank().over(Window.orderBy(\"time\"))).where(\"row>10\") # Removing first n rows to allow for rolling windows\n",
        ".orderBy(\"time\"))\n",
        "\n",
        "display(df.limit(3).toPandas())"
      ],
      "execution_count": null,
      "outputs": [
        {
          "output_type": "display_data",
          "data": {
            "text/html": [
              "<div>\n",
              "<style scoped>\n",
              "    .dataframe tbody tr th:only-of-type {\n",
              "        vertical-align: middle;\n",
              "    }\n",
              "\n",
              "    .dataframe tbody tr th {\n",
              "        vertical-align: top;\n",
              "    }\n",
              "\n",
              "    .dataframe thead th {\n",
              "        text-align: right;\n",
              "    }\n",
              "</style>\n",
              "<table border=\"1\" class=\"dataframe\">\n",
              "  <thead>\n",
              "    <tr style=\"text-align: right;\">\n",
              "      <th></th>\n",
              "      <th>time</th>\n",
              "      <th>btc_open</th>\n",
              "      <th>eth_open</th>\n",
              "      <th>ltc_open</th>\n",
              "      <th>btc_close</th>\n",
              "      <th>eth_close</th>\n",
              "      <th>ltc_close</th>\n",
              "      <th>btc_low</th>\n",
              "      <th>eth_low</th>\n",
              "      <th>ltc_low</th>\n",
              "      <th>btc_high</th>\n",
              "      <th>eth_high</th>\n",
              "      <th>ltc_high</th>\n",
              "      <th>btc_volume</th>\n",
              "      <th>eth_volume</th>\n",
              "      <th>ltc_volume</th>\n",
              "      <th>btc_open_rolling3</th>\n",
              "      <th>btc_close_rolling3</th>\n",
              "      <th>btc_volume_rolling3</th>\n",
              "      <th>eth_open_rolling3</th>\n",
              "      <th>eth_close_rolling3</th>\n",
              "      <th>eth_volume_rolling3</th>\n",
              "      <th>ltc_open_rolling3</th>\n",
              "      <th>ltc_close_rolling3</th>\n",
              "      <th>ltc_volume_rolling3</th>\n",
              "      <th>btc_low_rolling3</th>\n",
              "      <th>eth_low_rolling3</th>\n",
              "      <th>ltc_low_rolling3</th>\n",
              "      <th>btc_high_rolling3</th>\n",
              "      <th>eth_high_rolling3</th>\n",
              "      <th>ltc_high_rolling3</th>\n",
              "      <th>btc_open_rolling7</th>\n",
              "      <th>btc_close_rolling7</th>\n",
              "      <th>btc_volume_rolling7</th>\n",
              "      <th>eth_open_rolling7</th>\n",
              "      <th>eth_close_rolling7</th>\n",
              "      <th>eth_volume_rolling7</th>\n",
              "      <th>ltc_open_rolling7</th>\n",
              "      <th>ltc_close_rolling7</th>\n",
              "      <th>ltc_volume_rolling7</th>\n",
              "      <th>btc_low_rolling7</th>\n",
              "      <th>eth_low_rolling7</th>\n",
              "      <th>ltc_low_rolling7</th>\n",
              "      <th>btc_high_rolling7</th>\n",
              "      <th>eth_high_rolling7</th>\n",
              "      <th>ltc_high_rolling7</th>\n",
              "      <th>row</th>\n",
              "    </tr>\n",
              "  </thead>\n",
              "  <tbody>\n",
              "    <tr>\n",
              "      <th>0</th>\n",
              "      <td>2020-08-01 11:00:00</td>\n",
              "      <td>11634.38</td>\n",
              "      <td>355.23</td>\n",
              "      <td>59.55</td>\n",
              "      <td>11667.58</td>\n",
              "      <td>356.53</td>\n",
              "      <td>59.92</td>\n",
              "      <td>11561.56</td>\n",
              "      <td>353.35</td>\n",
              "      <td>59.33</td>\n",
              "      <td>11667.58</td>\n",
              "      <td>356.79</td>\n",
              "      <td>59.93</td>\n",
              "      <td>425.599125</td>\n",
              "      <td>4008.054495</td>\n",
              "      <td>5826.619624</td>\n",
              "      <td>11582.455</td>\n",
              "      <td>11654.7600</td>\n",
              "      <td>882.248475</td>\n",
              "      <td>355.5375</td>\n",
              "      <td>356.2675</td>\n",
              "      <td>8957.657220</td>\n",
              "      <td>59.9775</td>\n",
              "      <td>59.8850</td>\n",
              "      <td>16414.317599</td>\n",
              "      <td>11379.70</td>\n",
              "      <td>353.85</td>\n",
              "      <td>58.38</td>\n",
              "      <td>11761.97</td>\n",
              "      <td>358.69</td>\n",
              "      <td>60.72</td>\n",
              "      <td>11448.11000</td>\n",
              "      <td>11500.61125</td>\n",
              "      <td>693.499461</td>\n",
              "      <td>351.51250</td>\n",
              "      <td>353.100</td>\n",
              "      <td>9370.098110</td>\n",
              "      <td>59.2875</td>\n",
              "      <td>59.52625</td>\n",
              "      <td>19287.732063</td>\n",
              "      <td>11245.13</td>\n",
              "      <td>343.75</td>\n",
              "      <td>57.67</td>\n",
              "      <td>11761.97</td>\n",
              "      <td>358.69</td>\n",
              "      <td>60.72</td>\n",
              "      <td>11</td>\n",
              "    </tr>\n",
              "    <tr>\n",
              "      <th>1</th>\n",
              "      <td>2020-08-01 12:00:00</td>\n",
              "      <td>11667.58</td>\n",
              "      <td>356.53</td>\n",
              "      <td>59.92</td>\n",
              "      <td>11681.00</td>\n",
              "      <td>357.49</td>\n",
              "      <td>59.88</td>\n",
              "      <td>11645.11</td>\n",
              "      <td>355.89</td>\n",
              "      <td>59.63</td>\n",
              "      <td>11701.00</td>\n",
              "      <td>357.76</td>\n",
              "      <td>59.95</td>\n",
              "      <td>675.329904</td>\n",
              "      <td>6956.531368</td>\n",
              "      <td>7281.749042</td>\n",
              "      <td>11654.755</td>\n",
              "      <td>11678.5075</td>\n",
              "      <td>602.375838</td>\n",
              "      <td>356.2550</td>\n",
              "      <td>357.1375</td>\n",
              "      <td>6839.781067</td>\n",
              "      <td>59.8825</td>\n",
              "      <td>59.8925</td>\n",
              "      <td>13641.727353</td>\n",
              "      <td>11575.61</td>\n",
              "      <td>354.13</td>\n",
              "      <td>58.38</td>\n",
              "      <td>11761.97</td>\n",
              "      <td>360.82</td>\n",
              "      <td>60.44</td>\n",
              "      <td>11500.59375</td>\n",
              "      <td>11554.35500</td>\n",
              "      <td>687.864051</td>\n",
              "      <td>353.09250</td>\n",
              "      <td>354.835</td>\n",
              "      <td>9580.836733</td>\n",
              "      <td>59.5250</td>\n",
              "      <td>59.80500</td>\n",
              "      <td>19635.375762</td>\n",
              "      <td>11278.49</td>\n",
              "      <td>345.44</td>\n",
              "      <td>57.97</td>\n",
              "      <td>11761.97</td>\n",
              "      <td>360.82</td>\n",
              "      <td>60.72</td>\n",
              "      <td>12</td>\n",
              "    </tr>\n",
              "    <tr>\n",
              "      <th>2</th>\n",
              "      <td>2020-08-01 13:00:00</td>\n",
              "      <td>11681.00</td>\n",
              "      <td>357.35</td>\n",
              "      <td>59.91</td>\n",
              "      <td>11540.00</td>\n",
              "      <td>353.95</td>\n",
              "      <td>58.99</td>\n",
              "      <td>11490.63</td>\n",
              "      <td>352.95</td>\n",
              "      <td>58.74</td>\n",
              "      <td>11681.00</td>\n",
              "      <td>357.43</td>\n",
              "      <td>59.92</td>\n",
              "      <td>1194.913019</td>\n",
              "      <td>7488.993224</td>\n",
              "      <td>10820.404100</td>\n",
              "      <td>11678.505</td>\n",
              "      <td>11674.1100</td>\n",
              "      <td>400.029166</td>\n",
              "      <td>357.1275</td>\n",
              "      <td>356.8350</td>\n",
              "      <td>6980.833678</td>\n",
              "      <td>59.8825</td>\n",
              "      <td>59.7650</td>\n",
              "      <td>11865.192451</td>\n",
              "      <td>11580.58</td>\n",
              "      <td>351.70</td>\n",
              "      <td>58.38</td>\n",
              "      <td>11738.00</td>\n",
              "      <td>360.82</td>\n",
              "      <td>60.80</td>\n",
              "      <td>11554.33750</td>\n",
              "      <td>11590.87375</td>\n",
              "      <td>660.237394</td>\n",
              "      <td>354.82625</td>\n",
              "      <td>355.865</td>\n",
              "      <td>9893.490802</td>\n",
              "      <td>59.7975</td>\n",
              "      <td>59.86375</td>\n",
              "      <td>17320.020219</td>\n",
              "      <td>11332.66</td>\n",
              "      <td>345.78</td>\n",
              "      <td>58.38</td>\n",
              "      <td>11761.97</td>\n",
              "      <td>360.82</td>\n",
              "      <td>60.80</td>\n",
              "      <td>13</td>\n",
              "    </tr>\n",
              "  </tbody>\n",
              "</table>\n",
              "</div>"
            ],
            "text/plain": [
              "                  time  btc_open  ...  ltc_high_rolling7  row\n",
              "0  2020-08-01 11:00:00  11634.38  ...              60.72   11\n",
              "1  2020-08-01 12:00:00  11667.58  ...              60.72   12\n",
              "2  2020-08-01 13:00:00  11681.00  ...              60.80   13\n",
              "\n",
              "[3 rows x 47 columns]"
            ]
          },
          "metadata": {}
        }
      ]
    },
    {
      "cell_type": "markdown",
      "metadata": {
        "id": "Uw4zoRgtnkeI"
      },
      "source": [
        "### Quick bit of feature engineering then build simple model"
      ]
    },
    {
      "cell_type": "code",
      "metadata": {
        "colab": {
          "base_uri": "https://localhost:8080/",
          "height": 163
        },
        "id": "5s047OZLnnhG",
        "cellView": "form",
        "outputId": "f1703d17-2ca8-4f42-bde6-9445315cd009"
      },
      "source": [
        "#@title Feature engineering\n",
        "# Feature engineering\n",
        "\n",
        "coins=['btc','eth','ltc']\n",
        "\n",
        "# Range\n",
        "featExprs=[f\"({coin}_high_rolling{l}-{coin}_low_rolling{l})/{coin}_low_rolling{l} as {coin}_range_rolling{l}\" \n",
        "           for coin in coins for l in [3,7]]\n",
        "# Delta close\n",
        "featExprs+=[f\"\"\"({coin}_close_rolling{lpair[1]}-{coin}_close_rolling{lpair[0]})/{coin}_close_rolling{lpair[1]} \n",
        "            as {coin}_delta_close_rolling{lpair[0]}_{lpair[1]}\"\"\" for coin in coins for lpair in [(7,3)]]\n",
        "# Volume close\n",
        "featExprs+=[f\"\"\"({coin}_volume_rolling{lpair[1]}-{coin}_volume_rolling{lpair[0]})/{coin}_volume_rolling{lpair[1]} \n",
        "            as {coin}_delta_volume_rolling{lpair[0]}_{lpair[1]}\"\"\" for coin in coins for lpair in [(7,3)]]\n",
        "\n",
        "# Day of week\n",
        "featExprs+=[\"dayofweek(time) as dow\"]\n",
        "\n",
        "# Label\n",
        "featExprs+=[\"(avg(btc_close) over (partition by '1' order by time rows between current row and 2 following)-btc_close_rolling3)/btc_close_rolling3 as label\"]\n",
        "\n",
        "\n",
        "data=df.orderBy(\"time\").selectExpr(featExprs).toPandas()\n",
        "display(data.iloc[:3,:])"
      ],
      "execution_count": null,
      "outputs": [
        {
          "output_type": "display_data",
          "data": {
            "text/html": [
              "<div>\n",
              "<style scoped>\n",
              "    .dataframe tbody tr th:only-of-type {\n",
              "        vertical-align: middle;\n",
              "    }\n",
              "\n",
              "    .dataframe tbody tr th {\n",
              "        vertical-align: top;\n",
              "    }\n",
              "\n",
              "    .dataframe thead th {\n",
              "        text-align: right;\n",
              "    }\n",
              "</style>\n",
              "<table border=\"1\" class=\"dataframe\">\n",
              "  <thead>\n",
              "    <tr style=\"text-align: right;\">\n",
              "      <th></th>\n",
              "      <th>btc_range_rolling3</th>\n",
              "      <th>btc_range_rolling7</th>\n",
              "      <th>eth_range_rolling3</th>\n",
              "      <th>eth_range_rolling7</th>\n",
              "      <th>ltc_range_rolling3</th>\n",
              "      <th>ltc_range_rolling7</th>\n",
              "      <th>btc_delta_close_rolling7_3</th>\n",
              "      <th>eth_delta_close_rolling7_3</th>\n",
              "      <th>ltc_delta_close_rolling7_3</th>\n",
              "      <th>btc_delta_volume_rolling7_3</th>\n",
              "      <th>eth_delta_volume_rolling7_3</th>\n",
              "      <th>ltc_delta_volume_rolling7_3</th>\n",
              "      <th>dow</th>\n",
              "      <th>label</th>\n",
              "    </tr>\n",
              "  </thead>\n",
              "  <tbody>\n",
              "    <tr>\n",
              "      <th>0</th>\n",
              "      <td>0.033592</td>\n",
              "      <td>0.045961</td>\n",
              "      <td>0.013678</td>\n",
              "      <td>0.043462</td>\n",
              "      <td>0.040082</td>\n",
              "      <td>0.052887</td>\n",
              "      <td>0.013226</td>\n",
              "      <td>0.008891</td>\n",
              "      <td>0.005991</td>\n",
              "      <td>0.213941</td>\n",
              "      <td>-0.046043</td>\n",
              "      <td>-0.175055</td>\n",
              "      <td>7</td>\n",
              "      <td>-0.002165</td>\n",
              "    </tr>\n",
              "    <tr>\n",
              "      <th>1</th>\n",
              "      <td>0.016099</td>\n",
              "      <td>0.042867</td>\n",
              "      <td>0.018891</td>\n",
              "      <td>0.044523</td>\n",
              "      <td>0.035286</td>\n",
              "      <td>0.047438</td>\n",
              "      <td>0.010631</td>\n",
              "      <td>0.006447</td>\n",
              "      <td>0.001461</td>\n",
              "      <td>-0.141918</td>\n",
              "      <td>-0.400752</td>\n",
              "      <td>-0.439361</td>\n",
              "      <td>7</td>\n",
              "      <td>-0.005608</td>\n",
              "    </tr>\n",
              "    <tr>\n",
              "      <th>2</th>\n",
              "      <td>0.013593</td>\n",
              "      <td>0.037883</td>\n",
              "      <td>0.025931</td>\n",
              "      <td>0.043496</td>\n",
              "      <td>0.041453</td>\n",
              "      <td>0.041453</td>\n",
              "      <td>0.007130</td>\n",
              "      <td>0.002718</td>\n",
              "      <td>-0.001652</td>\n",
              "      <td>-0.650473</td>\n",
              "      <td>-0.417236</td>\n",
              "      <td>-0.459734</td>\n",
              "      <td>7</td>\n",
              "      <td>-0.006014</td>\n",
              "    </tr>\n",
              "  </tbody>\n",
              "</table>\n",
              "</div>"
            ],
            "text/plain": [
              "   btc_range_rolling3  btc_range_rolling7  ...  dow     label\n",
              "0            0.033592            0.045961  ...    7 -0.002165\n",
              "1            0.016099            0.042867  ...    7 -0.005608\n",
              "2            0.013593            0.037883  ...    7 -0.006014\n",
              "\n",
              "[3 rows x 14 columns]"
            ]
          },
          "metadata": {}
        }
      ]
    },
    {
      "cell_type": "code",
      "metadata": {
        "colab": {
          "base_uri": "https://localhost:8080/",
          "height": 269
        },
        "id": "y6nA3YaBuqFU",
        "cellView": "form",
        "outputId": "2e0e98aa-8a11-4905-f4ff-77cc5eadcc5e"
      },
      "source": [
        "#@title Train regression model\n",
        "\n",
        "# Model the bugger!\n",
        "#####################\n",
        "\n",
        "numtest=2000\n",
        "train=data.iloc[:-numtest,:]\n",
        "test=data.iloc[-numtest:,:]\n",
        "\n",
        "# Hacked weights - based on ordering and assumes sorted by time - BAD\n",
        "w_=train.reset_index(drop=True).index\n",
        "weights=list(w_/np.max(w_))\n",
        "\n",
        "# Parameters\n",
        "kwags={'num_leaves':120,'n_estimators':500,'learning_rate':0.05,'boosting_type':'dart'}\n",
        "mod=LGBMRegressor(**kwags).fit(X=train[[tmp for tmp in train.columns if tmp!=\"label\"]],y=train.label,sample_weight=weights)\n",
        "\n",
        "# Visualize\n",
        "#pl.figure(figsize=(16,8))\n",
        "#pl.plot(mod.predict(test[[tmp for tmp in test.columns if tmp!=\"label\"]]),test.label,'.')\n",
        "faketest=train.sample(3000)\n",
        "pl.plot(mod.predict(faketest[[tmp for tmp in faketest.columns if tmp!=\"label\"]]),faketest.label,'.')\n",
        "\n",
        "axlims=[-.003,.003]\n",
        "pl.gca().set_xlim(axlims)\n",
        "pl.gca().set_ylim(axlims)\n",
        "pl.gca().grid(True)\n",
        "display(pl.gca())"
      ],
      "execution_count": null,
      "outputs": [
        {
          "output_type": "display_data",
          "data": {
            "image/png": "[encoded data removed]",
            "text/plain": [
              "<Figure size 432x288 with 1 Axes>"
            ]
          },
          "metadata": {
            "needs_background": "light"
          }
        }
      ]
    },
    {
      "cell_type": "code",
      "metadata": {
        "colab": {
          "base_uri": "https://localhost:8080/"
        },
        "id": "shKBagqpxeJ5",
        "cellView": "form",
        "outputId": "9cb1d786-8dd9-45af-b29f-db4decbd5e40"
      },
      "source": [
        "#@title Feature importances\n",
        "# Feature importances\n",
        "\n",
        "sorted(list(zip([tmp for tmp in train.columns if tmp!=\"label\"],mod.booster_\n",
        "                .feature_importance(importance_type=\"gain\"))),key=lambda x:-x[1])"
      ],
      "execution_count": null,
      "outputs": [
        {
          "output_type": "execute_result",
          "data": {
            "text/plain": [
              "[('btc_range_rolling7', 4.2643357321067015),\n",
              " ('eth_range_rolling7', 4.1224510847641795),\n",
              " ('ltc_range_rolling7', 3.961702994409279),\n",
              " ('ltc_range_rolling3', 3.6651834950534976),\n",
              " ('btc_range_rolling3', 3.5569493335060542),\n",
              " ('ltc_delta_volume_rolling7_3', 3.3604672504116024),\n",
              " ('eth_range_rolling3', 3.241905938815762),\n",
              " ('eth_delta_close_rolling7_3', 3.0012602200440597),\n",
              " ('eth_delta_volume_rolling7_3', 2.891699543186405),\n",
              " ('btc_delta_volume_rolling7_3', 2.8301218266933574),\n",
              " ('btc_delta_close_rolling7_3', 2.8102712634463387),\n",
              " ('ltc_delta_close_rolling7_3', 2.713105438480852),\n",
              " ('dow', 2.4144752752690692)]"
            ]
          },
          "metadata": {},
          "execution_count": 33
        }
      ]
    },
    {
      "cell_type": "markdown",
      "metadata": {
        "id": "KEAzP9kIKz0P"
      },
      "source": [
        "### Classification model"
      ]
    },
    {
      "cell_type": "code",
      "metadata": {
        "id": "GTjqiUt8K19f",
        "colab": {
          "base_uri": "https://localhost:8080/"
        },
        "cellView": "form",
        "outputId": "7558c043-6fc2-4012-efb4-17e476f62077"
      },
      "source": [
        "#@title Train classification model\n",
        "\n",
        "numtest=2000\n",
        "train_bin=data.iloc[:-numtest,:].assign(label=lambda x:x.label.apply(lambda xx:int(xx>0)))\n",
        "test_bin=data.iloc[-numtest:,:].assign(label=lambda x:x.label.apply(lambda xx:int(xx>0)))\n",
        "\n",
        "# Hacked weights - based on ordering and assumes sorted by time - BAD\n",
        "w_=train_bin.reset_index(drop=True).index\n",
        "weights=list(w_/np.max(w_))\n",
        "\n",
        "# Parameters\n",
        "kwags={'num_leaves':120,'n_estimators':500,'learning_rate':0.05,'boosting_type':'dart'}\n",
        "mod_bin=LGBMClassifier(**kwags).fit(X=train_bin[[tmp for tmp in train_bin.columns if tmp!=\"label\"]],y=train_bin.label,sample_weight=weights)\n",
        "\n",
        "# Evaluation\n",
        "pred=mod_bin.predict(test_bin[[tmp for tmp in test_bin.columns if tmp!='label']])\n",
        "sum(test_bin.label.values==pred)/len(pred)"
      ],
      "execution_count": null,
      "outputs": [
        {
          "output_type": "execute_result",
          "data": {
            "text/plain": [
              "0.526"
            ]
          },
          "metadata": {},
          "execution_count": 35
        }
      ]
    },
    {
      "cell_type": "markdown",
      "metadata": {
        "id": "UyPGmA_9hDSL"
      },
      "source": [
        "### Simple data checks"
      ]
    },
    {
      "cell_type": "code",
      "metadata": {
        "colab": {
          "base_uri": "https://localhost:8080/",
          "height": 269
        },
        "id": "7oYRNcZihPHf",
        "outputId": "31c63d54-ecee-4eda-81d3-501d3b2944bf"
      },
      "source": [
        "# Low and high prices should always bracket all the other prices\n",
        "df.groupby(*[F.expr(f\"{coin}_close between {coin}_low and {coin}_high as {coin}_close_check\")\n",
        "           for coin in ['btc','eth','ltc']],\n",
        "           *[F.expr(f\"{coin}_open between {coin}_low and {coin}_high as {coin}_open_check\")\n",
        "           for coin in ['btc','eth','ltc']]).count().toPandas().T\n"
      ],
      "execution_count": null,
      "outputs": [
        {
          "output_type": "execute_result",
          "data": {
            "text/html": [
              "<div>\n",
              "<style scoped>\n",
              "    .dataframe tbody tr th:only-of-type {\n",
              "        vertical-align: middle;\n",
              "    }\n",
              "\n",
              "    .dataframe tbody tr th {\n",
              "        vertical-align: top;\n",
              "    }\n",
              "\n",
              "    .dataframe thead th {\n",
              "        text-align: right;\n",
              "    }\n",
              "</style>\n",
              "<table border=\"1\" class=\"dataframe\">\n",
              "  <thead>\n",
              "    <tr style=\"text-align: right;\">\n",
              "      <th></th>\n",
              "      <th>0</th>\n",
              "    </tr>\n",
              "  </thead>\n",
              "  <tbody>\n",
              "    <tr>\n",
              "      <th>btc_close_check</th>\n",
              "      <td>True</td>\n",
              "    </tr>\n",
              "    <tr>\n",
              "      <th>eth_close_check</th>\n",
              "      <td>True</td>\n",
              "    </tr>\n",
              "    <tr>\n",
              "      <th>ltc_close_check</th>\n",
              "      <td>True</td>\n",
              "    </tr>\n",
              "    <tr>\n",
              "      <th>btc_open_check</th>\n",
              "      <td>True</td>\n",
              "    </tr>\n",
              "    <tr>\n",
              "      <th>eth_open_check</th>\n",
              "      <td>True</td>\n",
              "    </tr>\n",
              "    <tr>\n",
              "      <th>ltc_open_check</th>\n",
              "      <td>True</td>\n",
              "    </tr>\n",
              "    <tr>\n",
              "      <th>count</th>\n",
              "      <td>131250</td>\n",
              "    </tr>\n",
              "  </tbody>\n",
              "</table>\n",
              "</div>"
            ],
            "text/plain": [
              "                      0\n",
              "btc_close_check    True\n",
              "eth_close_check    True\n",
              "ltc_close_check    True\n",
              "btc_open_check     True\n",
              "eth_open_check     True\n",
              "ltc_open_check     True\n",
              "count            131250"
            ]
          },
          "metadata": {},
          "execution_count": 83
        }
      ]
    },
    {
      "cell_type": "code",
      "metadata": {
        "colab": {
          "base_uri": "https://localhost:8080/"
        },
        "id": "nibxoCgyGiNZ",
        "outputId": "7099480e-d77e-4283-b00f-f1f8e55bc61d"
      },
      "source": [
        "print(f\"num_rows: {df.count()}\\n\\ncolumns:\\n-------\")\n",
        "for cols in [df.columns[tmp:tmp+5] for tmp in range(0,len(df.columns),5)]: print(\", \".join(cols))\n"
      ],
      "execution_count": null,
      "outputs": [
        {
          "output_type": "stream",
          "name": "stdout",
          "text": [
            "num_rows: 131250\n",
            "\n",
            "columns:\n",
            "-------\n",
            "time, btc_open, eth_open, ltc_open, btc_close\n",
            "eth_close, ltc_close, btc_low, eth_low, ltc_low\n",
            "btc_high, eth_high, ltc_high, btc_volume, eth_volume\n",
            "ltc_volume, btc_open_rolling3, btc_close_rolling3, btc_volume_rolling3, eth_open_rolling3\n",
            "eth_close_rolling3, eth_volume_rolling3, ltc_open_rolling3, ltc_close_rolling3, ltc_volume_rolling3\n",
            "btc_low_rolling3, eth_low_rolling3, ltc_low_rolling3, btc_high_rolling3, eth_high_rolling3\n",
            "ltc_high_rolling3, btc_open_rolling7, btc_close_rolling7, btc_volume_rolling7, eth_open_rolling7\n",
            "eth_close_rolling7, eth_volume_rolling7, ltc_open_rolling7, ltc_close_rolling7, ltc_volume_rolling7\n",
            "btc_low_rolling7, eth_low_rolling7, ltc_low_rolling7, btc_high_rolling7, eth_high_rolling7\n",
            "ltc_high_rolling7, row\n"
          ]
        }
      ]
    },
    {
      "cell_type": "markdown",
      "metadata": {
        "id": "4Q68bnjx0lY-"
      },
      "source": [
        "### Scratch"
      ]
    }
  ]
}